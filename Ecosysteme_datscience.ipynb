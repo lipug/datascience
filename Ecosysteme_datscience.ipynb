{
  "nbformat": 4,
  "nbformat_minor": 0,
  "metadata": {
    "colab": {
      "name": "Ecosysteme_datscience.ipynb",
      "provenance": [],
      "collapsed_sections": [],
      "authorship_tag": "ABX9TyOxipPywfqxSfz7C5z4L/0N",
      "include_colab_link": true
    },
    "kernelspec": {
      "name": "python3",
      "display_name": "Python 3"
    }
  },
  "cells": [
    {
      "cell_type": "markdown",
      "metadata": {
        "id": "view-in-github",
        "colab_type": "text"
      },
      "source": [
        "<a href=\"https://colab.research.google.com/github/lipug/datascience/blob/main/Ecosysteme_datscience.ipynb\" target=\"_parent\"><img src=\"https://colab.research.google.com/assets/colab-badge.svg\" alt=\"Open In Colab\"/></a>"
      ]
    },
    {
      "cell_type": "markdown",
      "metadata": {
        "id": "6YUagApEyFf9"
      },
      "source": [
        "# Data Science et Python"
      ]
    },
    {
      "cell_type": "markdown",
      "metadata": {
        "id": "JhKnZsOtlipS"
      },
      "source": [
        "Cette séance, est consacré à l'écosystème data science en Python, qui est un écosystème en pleine effervescence et extrêmement actif. \r\n",
        "D'ailleurs, cet écosystème contribue très largement au succès de cette discipline. Mais qu'est-ce qu'au juste la data science ? \r\n",
        "Il s'agit d'une discipline qui est à la frontière de trois domaines : \r\n",
        "* la programmation, \r\n",
        "* la statistique \r\n",
        "* et l'expertise domaine. \r\n",
        "\r\n",
        "Pour être un data scientist, vous devez maîtriser ces trois domaines. Cependant, il est trop souvent sous-estimé l'impact d'une lacune dans un de ces trois domaines. \r\n",
        "\r\n",
        "Regardons ce qu'il se passerait si vous n'aviez pas une de ces trois compétences. \r\n",
        "\r\n",
        "Alors supposons que vous ayez des compétences en statistiques et en expertise domaine. Vous êtes là dans ce qu'on appelle l'analyse statistique classique : vous avez des données que vous manipulez avec des outils statistiques. \r\n",
        "\r\n",
        "Maintenant, supposons que vous ayez des compétences en expertise domaine et en programmation, mais pas de compétences statistiques. Vous êtes ici dans une zone de danger. En effet, vous allez faire des analyses sur vos données sans pouvoir valider que vos analyses sont statistiquement valides. \r\n",
        "\r\n",
        "Et pour finir, supposons que vous ayez des compétences en programmation et en statistiques mais pas d'expertise domaine. Vous êtes de nouveau dans une zone de danger ou d'après le diagramme de Drew Conway dans la zone machine learning. \r\n",
        "\r\n",
        "![drewconway.png](https://issae.github.io/images/datascience/drewconway.png)\r\n",
        "\r\n"
      ]
    },
    {
      "cell_type": "code",
      "metadata": {
        "id": "uwj1UMMTr_p2"
      },
      "source": [
        " "
      ],
      "execution_count": null,
      "outputs": []
    },
    {
      "cell_type": "markdown",
      "metadata": {
        "id": "SSR2j1jUnufs"
      },
      "source": [
        "Comme vous vous en doutez, en une séance, nous n'allons pas pouvoir couvrir et vous donner des compétences dans chacun de ces trois domaines, ni m^me dans un cours consacré aux bases de donn;ees documentaires. Cette séance, nous allons principalement nous focaliser sur la partie programmation. Afin de nous simplifier la manipulation des base de données documentaire au travers de notebook tel que google collab et grace à Python. \r\n",
        "En particulier, dans cette séance, nous allons aborder les briques de base que sont NumPy et pandas dans l'écosystème data science de Python. Il faut prendre conscience qu'il y a de grandes différences en termes de maturité et en termes de philosophie entre Python et NumPy et pandas. En termes de maturité, Python 1.0 a été publié en 1994. C'est donc un langage très ancien et très mature. NumPy 1.0 a été publié en 2006, et le projet pandas n'a quant à lui démarré qu'en 2008. On voit donc que Python est très mature et que NumPy et surtout pandas sont beaucoup moins matures. En termes de philosophie, il y a également de grandes différences. Python est un langage qui dès le départ a eu comme objectif la simplicité. Évidemment, cette simplicité vient avec un prix à payer lorsque l'on a un langage extrêmement flexible il y est beaucoup plus difficile de faire certains types d'optimisation. \r\n",
        "\r\n",
        "NumPy et pandas dès le départ ont eu pour objectif l'efficacité. Et le prix à payer, cette fois, est une perte de souplesse et une perte de simplicité. \r\n",
        "\r\n",
        "Dans toute cette séance, nous allons utiliser comme environnement de développement les notebooks google collab. \r\n",
        "\r\n",
        "En effet, les notebooks sont l'environnement de choix pour toute la communauté data science parce qu'ils permettent de faire ce qu'on appelle des runable papers. Ce sont des papiers dans lesquels on peut mettre du texte formaté mélangé avec du code et avec lesquels on peut interagir dynamiquement avec nos données. \r\n",
        "\r\n",
        "Ouvrons maintenant un notebook pour commencer à regarder la performance de NumPy et pandas. \r\n",
        "\r\n",
        "On va montrer l'intérêt des librairies NumPy et pandas sur deux exemples très simples. \r\n",
        "\r\n",
        "pandas nous permettra aussi de nous initier à la manipulation de **donnée documentaire à travers les dataframes** et les capcité de récupérer des données d'un peu tous les formats.\r\n",
        "\r\n",
        "Nous reviendrons très largement sur des exemples plus important en utilisant des bases de données Nosql et des traitement répartis avec mapreduce et Spark. \r\n",
        "\r\n",
        "pour cette séance, l'intérêt, c'est juste de voir une première motivation. \r\n",
        "\r\n",
        "Commençons avec NumPy. Pour cela, on créer une liste L qui va contenir mille éléments. Et on créer un tableau NumPy qui va contenir les mêmes mille éléments. On crée un tableau NumPy avec np.array à partir, par exemple, d'une liste. Et maintenant, on va calculer le carré de ces éléments. Donc on sait faire ça très bien avec les compréhensions de listes. Regardons un exemple. \r\n",
        "\r\n",
        "On va faire un timeit de x au carré pour x dans L. Et donc ensuite, on va faire la même chose, on va faire un timeit de x au carré pour x dans A. \r\n",
        "\r\n",
        "Donc regardons la performance qu'on a avec la liste. Pour la liste, le timeit a pris 328 microsecondes pour calculer le carré de ces mille éléments. Et pour le tableau NumPy, ça a pris 216 microsecondes. \r\n",
        "Donc on voit qu'on a un gain de performance important dans ce cas-là autour, on va dire, de 30 % de gain de performance. Mais la vraie performance que l'on obtient avec les tableaux NumPy, c'est en utilisant un nouveau concept qui n'existe pas en Python. C'est le concept de vectorisation. \r\n",
        "\r\n"
      ]
    },
    {
      "cell_type": "code",
      "metadata": {
        "id": "A2b9g8e3p0Yg"
      },
      "source": [
        "import numpy as np\r\n",
        "import pandas as pd\r\n",
        "import seaborn as sns"
      ],
      "execution_count": null,
      "outputs": []
    },
    {
      "cell_type": "code",
      "metadata": {
        "colab": {
          "base_uri": "https://localhost:8080/"
        },
        "id": "w0LyOn_6rGAO",
        "outputId": "015c892a-0a40-4a00-b2b2-3aed457d3c03"
      },
      "source": [
        "L = list(range(1000))\r\n",
        "%timeit [x**2 for x in L]"
      ],
      "execution_count": null,
      "outputs": [
        {
          "output_type": "stream",
          "text": [
            "1000 loops, best of 3: 250 µs per loop\n"
          ],
          "name": "stdout"
        }
      ]
    },
    {
      "cell_type": "markdown",
      "metadata": {
        "id": "vQa1YTassiPr"
      },
      "source": [
        "Regardons cet exemple. Je vais refaire mon même timeit mais maintenant je vais utiliser cette opération de vectorisation : pour prendre les carrés des éléments d'un tableau je n'ai qu'à écrire mon tableau que j'élève au carré, et cette opération va appliquer l'opération carré sur chaque élément du tableau. Exécutons cela, et donc regardons le temps d'exécution de cette opération faite maintenant avec le principe de vectorisation, qui est spécifique à NumPy, et on va voir que ce temps d'exécution est beaucoup plus rapide que ce que l'on obtient avec des compréhensions de listes classiques que ce soit sur des listes, ou sur des tableaux. \r\n",
        "\r\n",
        "Effectivement, on est passé de 328 microsecondes à 1,42 microseconde, donc un gain de performance absolument majeur. \r\n",
        "\r\n",
        "Donc, encore une fois, nous reviendrons en temps utile sur ces notions de vectorisation, de création de tableaux NumPy ; c'était juste pour vous donner une impression ou un premier aperçu de l'intérêt de NumPy. \r\n",
        "\r\n"
      ]
    },
    {
      "cell_type": "code",
      "metadata": {
        "id": "kbddLr7XrOf4"
      },
      "source": [
        "a = np.array(L)\r\n",
        "\r\n",
        "%timeit [x**2 for x in a]\r\n",
        "\r\n",
        "%timeit a**2\r\n",
        "\r\n",
        "a**2"
      ],
      "execution_count": null,
      "outputs": []
    },
    {
      "cell_type": "markdown",
      "metadata": {
        "id": "ico2GKbqs2dn"
      },
      "source": [
        "Maintenant, on va montrer un deuxième exemple pour la librairie pandas. Donc pour ça, on importe un jeu de données, donc ça aussi, nous reviendrons dessus dans les séances de base de données documentaires. \r\n",
        "\r\n",
        "C'est un jeu de données sur les passagers qui ont embarqué sur le Titanic. \r\n",
        "\r\n",
        "On execute une instruction qui nous permet de charger le jeu de données et on va regarder à quoi ressemble ce jeu de données. \r\n",
        "\r\n",
        "Si je regarde, en fait, c'est un grand tableau et dans ce grand tableau, j'ai un certain nombre de colonnes. J'ai une colonne \"survived\" qui me donne si ce passager a survécu ou pas à la catastrophe du Titanic. Ensuite, j'ai une colonne \"sex\" qui va me dire si ce passager était un homme ou une femme. Et j'ai une colonne \"class\" qui va me dire dans quelle classe était ce passager. Alors, ce grand tableau, c'est un tableau brut qui contient environ huit cents lignes, et moi, j'aimerais avoir une information un peu plus facile à exploiter ; par exemple, j'aimerais bien connaître le taux de survie des passagers par classe et par sexe, pour voir si j'ai une différence entre les passagers des différentes classes et entre les hommes et les femmes. Alors, évidemment, si on devait faire ça à la main, ça serait un petit peu fastidieux mais en pandas, il y a des fonctions qui nous permettent de faire ce calcul de manière extrêmement simple. \r\n",
        "\r\n"
      ]
    },
    {
      "cell_type": "code",
      "metadata": {
        "colab": {
          "base_uri": "https://localhost:8080/"
        },
        "id": "aiTwc9dwp6Uf",
        "outputId": "cf6fcdd7-1b93-4fab-9e97-531819362d24"
      },
      "source": [
        "# Les données depuis https://github.com/mwaskom/seaborn-data\r\n",
        "tit = sns.load_dataset('titanic')\r\n",
        "print(type(tit))\r\n",
        "\r\n",
        "print(tit.head())\r\n",
        "\r\n",
        "tit.info()"
      ],
      "execution_count": null,
      "outputs": [
        {
          "output_type": "stream",
          "text": [
            "<class 'pandas.core.frame.DataFrame'>\n",
            "   survived  pclass     sex   age  ...  deck  embark_town  alive  alone\n",
            "0         0       3    male  22.0  ...   NaN  Southampton     no  False\n",
            "1         1       1  female  38.0  ...     C    Cherbourg    yes  False\n",
            "2         1       3  female  26.0  ...   NaN  Southampton    yes   True\n",
            "3         1       1  female  35.0  ...     C  Southampton    yes  False\n",
            "4         0       3    male  35.0  ...   NaN  Southampton     no   True\n",
            "\n",
            "[5 rows x 15 columns]\n",
            "<class 'pandas.core.frame.DataFrame'>\n",
            "RangeIndex: 891 entries, 0 to 890\n",
            "Data columns (total 15 columns):\n",
            " #   Column       Non-Null Count  Dtype   \n",
            "---  ------       --------------  -----   \n",
            " 0   survived     891 non-null    int64   \n",
            " 1   pclass       891 non-null    int64   \n",
            " 2   sex          891 non-null    object  \n",
            " 3   age          714 non-null    float64 \n",
            " 4   sibsp        891 non-null    int64   \n",
            " 5   parch        891 non-null    int64   \n",
            " 6   fare         891 non-null    float64 \n",
            " 7   embarked     889 non-null    object  \n",
            " 8   class        891 non-null    category\n",
            " 9   who          891 non-null    object  \n",
            " 10  adult_male   891 non-null    bool    \n",
            " 11  deck         203 non-null    category\n",
            " 12  embark_town  889 non-null    object  \n",
            " 13  alive        891 non-null    object  \n",
            " 14  alone        891 non-null    bool    \n",
            "dtypes: bool(2), category(2), float64(2), int64(4), object(5)\n",
            "memory usage: 80.6+ KB\n"
          ],
          "name": "stdout"
        }
      ]
    },
    {
      "cell_type": "code",
      "metadata": {
        "colab": {
          "base_uri": "https://localhost:8080/",
          "height": 233
        },
        "id": "T8Vp_PhLuvXG",
        "outputId": "ad6a12a6-63ed-4b95-e0f7-f1a03e606f2f"
      },
      "source": [
        "tit.loc[:5,['survived', 'class', 'sex']]"
      ],
      "execution_count": null,
      "outputs": [
        {
          "output_type": "execute_result",
          "data": {
            "text/html": [
              "<div>\n",
              "<style scoped>\n",
              "    .dataframe tbody tr th:only-of-type {\n",
              "        vertical-align: middle;\n",
              "    }\n",
              "\n",
              "    .dataframe tbody tr th {\n",
              "        vertical-align: top;\n",
              "    }\n",
              "\n",
              "    .dataframe thead th {\n",
              "        text-align: right;\n",
              "    }\n",
              "</style>\n",
              "<table border=\"1\" class=\"dataframe\">\n",
              "  <thead>\n",
              "    <tr style=\"text-align: right;\">\n",
              "      <th></th>\n",
              "      <th>survived</th>\n",
              "      <th>class</th>\n",
              "      <th>sex</th>\n",
              "    </tr>\n",
              "  </thead>\n",
              "  <tbody>\n",
              "    <tr>\n",
              "      <th>0</th>\n",
              "      <td>0</td>\n",
              "      <td>Third</td>\n",
              "      <td>male</td>\n",
              "    </tr>\n",
              "    <tr>\n",
              "      <th>1</th>\n",
              "      <td>1</td>\n",
              "      <td>First</td>\n",
              "      <td>female</td>\n",
              "    </tr>\n",
              "    <tr>\n",
              "      <th>2</th>\n",
              "      <td>1</td>\n",
              "      <td>Third</td>\n",
              "      <td>female</td>\n",
              "    </tr>\n",
              "    <tr>\n",
              "      <th>3</th>\n",
              "      <td>1</td>\n",
              "      <td>First</td>\n",
              "      <td>female</td>\n",
              "    </tr>\n",
              "    <tr>\n",
              "      <th>4</th>\n",
              "      <td>0</td>\n",
              "      <td>Third</td>\n",
              "      <td>male</td>\n",
              "    </tr>\n",
              "    <tr>\n",
              "      <th>5</th>\n",
              "      <td>0</td>\n",
              "      <td>Third</td>\n",
              "      <td>male</td>\n",
              "    </tr>\n",
              "  </tbody>\n",
              "</table>\n",
              "</div>"
            ],
            "text/plain": [
              "   survived  class     sex\n",
              "0         0  Third    male\n",
              "1         1  First  female\n",
              "2         1  Third  female\n",
              "3         1  First  female\n",
              "4         0  Third    male\n",
              "5         0  Third    male"
            ]
          },
          "metadata": {
            "tags": []
          },
          "execution_count": 16
        }
      ]
    },
    {
      "cell_type": "markdown",
      "metadata": {
        "id": "2XRYI6cTv0OL"
      },
      "source": [
        "Donc regardons cela. Je vais écrire t égale tit -- c'est mon tableau et je vais appeler la méthode pivot_table et dessus, je vais dire la chose suivante, je vais dire : \r\n",
        "\r\n",
        "donne-moi sur la colonne survived donne-moi la moyenne donc je vais donner la fonction que je vais appliquer pour agréger, donc je dis que c'est la moyenne et ensuite je vais dire qu'est-ce que je vais mettre dans mon résultat Alors, dans mon résultat, je veux voir un petit tableau condensé sur les lignes que je vais appeler index ; je voudrais avoir la classe et sur les colonnes, j'aimerais avoir le sexe. J'exécute cela, et maintenant je regarde mon tableau ; et en une seule instruction, avec une seule fonction, j'ai un tableau qui va me donner le taux de survie par classe et par sexe, donc je vois que les femmes de première classe ont survécu à 96 %, et les hommes de dernière classe ont survécu autour de 13 %. "
      ]
    },
    {
      "cell_type": "code",
      "metadata": {
        "colab": {
          "base_uri": "https://localhost:8080/"
        },
        "id": "tcqp4k0Xt23x",
        "outputId": "49f19e3f-a6f7-46eb-884b-06ea10223f26"
      },
      "source": [
        "t = tit.pivot_table('survived',\r\n",
        "                    aggfunc = np.mean,\r\n",
        "                    index = 'class',\r\n",
        "                    columns = 'sex')\r\n",
        "print(t)\r\n"
      ],
      "execution_count": null,
      "outputs": [
        {
          "output_type": "stream",
          "text": [
            "sex       female      male\n",
            "class                     \n",
            "First   0.968085  0.368852\n",
            "Second  0.921053  0.157407\n",
            "Third   0.500000  0.135447\n"
          ],
          "name": "stdout"
        }
      ]
    },
    {
      "cell_type": "markdown",
      "metadata": {
        "id": "ZEEz-gFOwUox"
      },
      "source": [
        "Pour finir, dans cette séances, nous ne couvrirons pas les aspects visualisation mais je veux tout de même vous montrer avec quelle simplicité on pourrait visualiser ce résultat. Je reprends simplement ma table t, et je vais faire un plot et ici, je vais dire le type de plot que je voudrais un tableau sous forme de barres et donc, regardons le résultat que j'obtiens et avec une seule instruction plot je vais obtenir mon taux de survie par classe et par sexe. \r\n",
        "\r\n"
      ]
    },
    {
      "cell_type": "code",
      "metadata": {
        "colab": {
          "base_uri": "https://localhost:8080/",
          "height": 323
        },
        "id": "nUuyrGZvwgea",
        "outputId": "a8b8bfa7-49b2-4861-c612-e22c1738e6d4"
      },
      "source": [
        "t.plot(kind='bar')"
      ],
      "execution_count": null,
      "outputs": [
        {
          "output_type": "execute_result",
          "data": {
            "text/plain": [
              "<matplotlib.axes._subplots.AxesSubplot at 0x7f83a97163c8>"
            ]
          },
          "metadata": {
            "tags": []
          },
          "execution_count": 19
        },
        {
          "output_type": "display_data",
          "data": {
            "image/png": "[encoded data removed]",
            "text/plain": [
              "<Figure size 432x288 with 1 Axes>"
            ]
          },
          "metadata": {
            "tags": [],
            "needs_background": "light"
          }
        }
      ]
    },
    {
      "cell_type": "markdown",
      "metadata": {
        "id": "gyn2Hiu4w2oc"
      },
      "source": [
        "Pour finir, j'aimerais vous expliquer le rôle des librairies NumPy et pandas. \r\n",
        "\r\n",
        "**NumPy,** c'est la librairie de référence pour manipuler des tableaux en Python. Donc la caractéristique de NumPy, c'est qu'on va créer des tableaux multidimensionnels qui ne contiennent que des objets du même type. Une autre caractéristique de NumPy, évidemment, c'est cette très grande performance avec ses opérations de vectorisation mais nous reviendrons largement dessus quand nous en aurons besoin. \r\n",
        "\r\n",
        "**pandas,** quant à lui, c'est la librairie de référence qui permet d'ajouter des index aux tableaux NumPy. Ça sert à quoi, ces index ? Ça sert à pouvoir donner des labels aux lignes et aux colonnes des tableaux et ainsi de pouvoir accéder de manière beaucoup plus intuitive et expressive aux éléments de ce tableau. **De plus, pandas supporte des opérations que l'on trouve en général dans les bases de données** comme les opérations, par exemple, de jointure, de pivot ou de regroupement. \r\n",
        "\r\n",
        "Nous couvrirons toutes ces notions dans de prochaines séances quand nous utiliserons pandas avec nos abse de données NoSQl ou Spark ou autres, qui nlus aidera à initialiser et trater et visualiser nos données.\r\n",
        "\r\n",
        "Ces termes vous paraissent un petit peu obscurs, pas d'inquiétude, lors des UE NFE204 et RCP216 nous ferons des exemples qui rendrons tout ceci plus claire. \r\n",
        "\r\n",
        "Dans cette Séance, nous avons vu présenté très rapidement le domaine de la data science qui est un domaine complexe qui demande de nombreuses compétences. Cette séance, nous parlerons uniquement de l'aspect programmation, et à ce titre, les librairies NumPy et pandas fournissent une solution extrêmement efficace et satisfaisante à ce domaine. Cependant, nous avons vu que NumPy et pandas étaient des projets, des librairies qui n'étaient pas parfaitement matures. Donc cela va venir avec certaines frustrations, notamment en termes d'uniformité et en termes de simplicité, que nous aurons à découvrir au cours des prochaines séances. \r\n",
        "\r\n",
        "Cependant, c'est ce qui se fait de mieux actuellement dans le domaine donc il faut vivre avec ces limitations et profiter pleinement de la puissance de ces librairies NumPy et pandas.\r\n",
        "\r\n"
      ]
    },
    {
      "cell_type": "markdown",
      "metadata": {
        "id": "qFWqXiCrRQ1d"
      },
      "source": [
        "refs\r\n",
        "\r\n",
        "https://www.askpython.com/python-modules/pandas/pandas-pivot-tables\r\n",
        "\r\n"
      ]
    },
    {
      "cell_type": "code",
      "metadata": {
        "id": "suYBRKrkliCr"
      },
      "source": [
        ""
      ],
      "execution_count": null,
      "outputs": []
    }
  ]
}