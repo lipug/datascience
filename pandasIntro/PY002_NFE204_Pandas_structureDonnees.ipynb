{
  "nbformat": 4,
  "nbformat_minor": 0,
  "metadata": {
    "colab": {
      "name": "PY002_NFE204_Pandas_structureDonnees.ipynb",
      "provenance": [],
      "collapsed_sections": [],
      "include_colab_link": true
    },
    "kernelspec": {
      "name": "python3",
      "display_name": "Python 3"
    }
  },
  "cells": [
    {
      "cell_type": "markdown",
      "metadata": {
        "id": "view-in-github",
        "colab_type": "text"
      },
      "source": [
        "<a href=\"https://colab.research.google.com/github/lipug/datascience/blob/main/PY002_NFE204_Pandas_structureDonnees.ipynb\" target=\"_parent\"><img src=\"https://colab.research.google.com/assets/colab-badge.svg\" alt=\"Open In Colab\"/></a>"
      ]
    },
    {
      "cell_type": "markdown",
      "metadata": {
        "id": "OQFGoTYtN10R"
      },
      "source": [
        "# Apprendre à connaître les structures de données de Pandas\r\n",
        "\r\n"
      ]
    },
    {
      "cell_type": "markdown",
      "metadata": {
        "id": "cj_Zu7AfOarq"
      },
      "source": [
        "Alors qu'un DataFrame fournit des fonctions qui peuvent sembler assez intuitives, les concepts sous-jacents sont un peu plus difficiles à comprendre. Pour cette raison, vous allez mettre de côté le vaste NBA DataFrame et créer des objets Pandas plus petits à partir de zéro.\r\n",
        "\r\n",
        "## Comprendre les objets de série\r\n",
        "La structure de données la plus élémentaire de Python est la liste, qui est également un bon point de départ pour apprendre à connaître les objets `pandas.Series`. Créez un nouvel objet Series basé sur une liste:"
      ]
    },
    {
      "cell_type": "code",
      "metadata": {
        "colab": {
          "base_uri": "https://localhost:8080/"
        },
        "id": "VM9KSnomOjiA",
        "outputId": "41e1e71b-ca26-4033-f69c-876146732ea3"
      },
      "source": [
        "revenues = pd.Series([5555, 7000, 1980])\r\n",
        "revenues"
      ],
      "execution_count": null,
      "outputs": [
        {
          "output_type": "execute_result",
          "data": {
            "text/plain": [
              "0    5555\n",
              "1    7000\n",
              "2    1980\n",
              "dtype: int64"
            ]
          },
          "metadata": {
            "tags": []
          },
          "execution_count": 31
        }
      ]
    },
    {
      "cell_type": "markdown",
      "metadata": {
        "id": "bqomrqR3OucN"
      },
      "source": [
        "Vous avez utilisé la liste [5555, 7000, 1980] pour créer un objet Série appelé revenus. Un objet Series encapsule deux composants:\r\n",
        "\r\n",
        "* Une séquence de valeurs\r\n",
        "* Une séquence d'identifiants, qui est l'index\r\n",
        "\r\n",
        "Vous pouvez accéder à ces composants avec .values et .index, respectivement:"
      ]
    },
    {
      "cell_type": "code",
      "metadata": {
        "colab": {
          "base_uri": "https://localhost:8080/"
        },
        "id": "3t2TTA1uO254",
        "outputId": "7e3a4c6c-b48f-45b0-dd7d-239f0909b83c"
      },
      "source": [
        "print(revenues.index,revenues.values)"
      ],
      "execution_count": null,
      "outputs": [
        {
          "output_type": "stream",
          "text": [
            "RangeIndex(start=0, stop=3, step=1) [5555 7000 1980]\n"
          ],
          "name": "stdout"
        }
      ]
    },
    {
      "cell_type": "code",
      "metadata": {
        "colab": {
          "base_uri": "https://localhost:8080/"
        },
        "id": "uMF1s49gPEsN",
        "outputId": "24835dee-1c37-451a-faf6-edb99b4fa97d"
      },
      "source": [
        "type(revenues.values)"
      ],
      "execution_count": null,
      "outputs": [
        {
          "output_type": "execute_result",
          "data": {
            "text/plain": [
              "numpy.ndarray"
            ]
          },
          "metadata": {
            "tags": []
          },
          "execution_count": 33
        }
      ]
    },
    {
      "cell_type": "markdown",
      "metadata": {
        "id": "nX84Msm8PdRQ"
      },
      "source": [
        "Alors que Pandas s'appuie sur NumPy, une différence significative réside dans leur indexation. Tout comme un tableau NumPy, une série Pandas possède également un index entier défini implicitement. Cet index implicite indique la position de l'élément dans la série.\r\n",
        "\r\n",
        "Cependant, une série peut également avoir un type d'index arbitraire. Vous pouvez considérer cet index explicite comme des étiquettes pour une ligne spécifique:"
      ]
    },
    {
      "cell_type": "code",
      "metadata": {
        "colab": {
          "base_uri": "https://localhost:8080/"
        },
        "id": "GTCICfXfPloG",
        "outputId": "f9703ce3-acc0-40cc-9550-006c328a7955"
      },
      "source": [
        "city_revenues = pd.Series(\r\n",
        "    [4200, 8000, 6500],\r\n",
        "    index=[\"Amsterdam\", \"Toronto\", \"Tokyo\"]\r\n",
        ")\r\n",
        "print(city_revenues.index,city_revenues.values)"
      ],
      "execution_count": null,
      "outputs": [
        {
          "output_type": "stream",
          "text": [
            "Index(['Amsterdam', 'Toronto', 'Tokyo'], dtype='object') [4200 8000 6500]\n"
          ],
          "name": "stdout"
        }
      ]
    },
    {
      "cell_type": "markdown",
      "metadata": {
        "id": "3egk4hs-PvRd"
      },
      "source": [
        "En fait un mode de référencement par clé:valeur"
      ]
    },
    {
      "cell_type": "code",
      "metadata": {
        "colab": {
          "base_uri": "https://localhost:8080/"
        },
        "id": "tGLzee41PufM",
        "outputId": "ca3a32ec-8037-4929-87b9-cb757fcdcd62"
      },
      "source": [
        "city_revenues"
      ],
      "execution_count": null,
      "outputs": [
        {
          "output_type": "execute_result",
          "data": {
            "text/plain": [
              "Amsterdam    4200\n",
              "Toronto      8000\n",
              "Tokyo        6500\n",
              "dtype: int64"
            ]
          },
          "metadata": {
            "tags": []
          },
          "execution_count": 36
        }
      ]
    },
    {
      "cell_type": "markdown",
      "metadata": {
        "id": "e2hyqEVLQIp2"
      },
      "source": [
        "On peu utiliser les dictionnaire de Python pour initialiser une Serie"
      ]
    },
    {
      "cell_type": "code",
      "metadata": {
        "colab": {
          "base_uri": "https://localhost:8080/"
        },
        "id": "kA2KYrtlQGZL",
        "outputId": "71e3f2a1-5b8f-4f8d-f7e1-8f7e1461ffa5"
      },
      "source": [
        "city_employee_count = pd.Series({\"Amsterdam\": 5, \"Tokyo\": 8})\r\n",
        "city_employee_count"
      ],
      "execution_count": null,
      "outputs": [
        {
          "output_type": "execute_result",
          "data": {
            "text/plain": [
              "Amsterdam    5\n",
              "Tokyo        8\n",
              "dtype: int64"
            ]
          },
          "metadata": {
            "tags": []
          },
          "execution_count": 38
        }
      ]
    },
    {
      "cell_type": "markdown",
      "metadata": {
        "id": "ewIPf9zdQgHg"
      },
      "source": [
        "Les clés du dictionnaire deviennent l'index et les valeurs du dictionnaire sont les valeurs Series.\r\n",
        "\r\n",
        "Tout comme les dictionnaires, Series prend également en charge .keys () et le mot-clé in:"
      ]
    },
    {
      "cell_type": "code",
      "metadata": {
        "colab": {
          "base_uri": "https://localhost:8080/"
        },
        "id": "pJU2zsa5QfUl",
        "outputId": "0d04c3d8-d145-498b-b37b-75bfd8556f5c"
      },
      "source": [
        "print(city_employee_count.keys(),city_employee_count.values,city_employee_count.index)"
      ],
      "execution_count": null,
      "outputs": [
        {
          "output_type": "stream",
          "text": [
            "Index(['Amsterdam', 'Tokyo'], dtype='object') [5 8] Index(['Amsterdam', 'Tokyo'], dtype='object')\n"
          ],
          "name": "stdout"
        }
      ]
    },
    {
      "cell_type": "markdown",
      "metadata": {
        "id": "ZWdtsbeJSH1g"
      },
      "source": [
        "# Comprendre les objets DataFrame\r\n",
        "Bien qu'une série soit une structure de données assez puissante, elle a ses limites. Par exemple, vous ne pouvez stocker qu'un seul attribut par clé. Comme vous l’avez vu avec l’ensemble de données nba, qui comprend 23 colonnes, la bibliothèque Pandas Python a plus à offrir avec son DataFrame. Cette structure de données est une séquence d'objets Series qui partagent le même index.\r\n",
        "\r\n",
        "Si vous avez suivi les exemples de séries, vous devriez déjà avoir deux objets de série avec des villes comme clés:\r\n",
        "\r\n",
        "* city_revenues\r\n",
        "* city_employee_count\r\n",
        "\r\n",
        "\r\n",
        "Vous pouvez combiner ces objets dans un DataFrame en fournissant un dictionnaire dans le constructeur. Les clés du dictionnaire deviendront les noms de colonne et les valeurs doivent contenir les objets Series:"
      ]
    },
    {
      "cell_type": "code",
      "metadata": {
        "colab": {
          "base_uri": "https://localhost:8080/"
        },
        "id": "wgQ1efKJSq6g",
        "outputId": "de06ac0a-8563-4c73-d752-c7ec4c958dfa"
      },
      "source": [
        "print('revenues', city_revenues,'employé', city_employee_count, sep='\\n----\\n')"
      ],
      "execution_count": null,
      "outputs": [
        {
          "output_type": "stream",
          "text": [
            "revenues\n",
            "----\n",
            "Amsterdam    4200\n",
            "Toronto      8000\n",
            "Tokyo        6500\n",
            "dtype: int64\n",
            "----\n",
            "employé\n",
            "----\n",
            "Amsterdam    5\n",
            "Tokyo        8\n",
            "dtype: int64\n"
          ],
          "name": "stdout"
        }
      ]
    },
    {
      "cell_type": "markdown",
      "metadata": {
        "id": "i7Y_AjZpTNtc"
      },
      "source": [
        ""
      ]
    },
    {
      "cell_type": "code",
      "metadata": {
        "colab": {
          "base_uri": "https://localhost:8080/",
          "height": 141
        },
        "id": "sewr7BmZTJu0",
        "outputId": "70e8cb3d-0fcb-4e0e-b531-748a1ee4f170"
      },
      "source": [
        "city_data = pd.DataFrame({\r\n",
        "    \"revenue\": city_revenues,\r\n",
        "    \"employee_count\": city_employee_count\r\n",
        "})\r\n",
        "city_data"
      ],
      "execution_count": null,
      "outputs": [
        {
          "output_type": "execute_result",
          "data": {
            "text/html": [
              "<div>\n",
              "<style scoped>\n",
              "    .dataframe tbody tr th:only-of-type {\n",
              "        vertical-align: middle;\n",
              "    }\n",
              "\n",
              "    .dataframe tbody tr th {\n",
              "        vertical-align: top;\n",
              "    }\n",
              "\n",
              "    .dataframe thead th {\n",
              "        text-align: right;\n",
              "    }\n",
              "</style>\n",
              "<table border=\"1\" class=\"dataframe\">\n",
              "  <thead>\n",
              "    <tr style=\"text-align: right;\">\n",
              "      <th></th>\n",
              "      <th>revenue</th>\n",
              "      <th>employee_count</th>\n",
              "    </tr>\n",
              "  </thead>\n",
              "  <tbody>\n",
              "    <tr>\n",
              "      <th>Amsterdam</th>\n",
              "      <td>4200</td>\n",
              "      <td>5.0</td>\n",
              "    </tr>\n",
              "    <tr>\n",
              "      <th>Tokyo</th>\n",
              "      <td>6500</td>\n",
              "      <td>8.0</td>\n",
              "    </tr>\n",
              "    <tr>\n",
              "      <th>Toronto</th>\n",
              "      <td>8000</td>\n",
              "      <td>NaN</td>\n",
              "    </tr>\n",
              "  </tbody>\n",
              "</table>\n",
              "</div>"
            ],
            "text/plain": [
              "           revenue  employee_count\n",
              "Amsterdam     4200             5.0\n",
              "Tokyo         6500             8.0\n",
              "Toronto       8000             NaN"
            ]
          },
          "metadata": {
            "tags": []
          },
          "execution_count": 50
        }
      ]
    },
    {
      "cell_type": "markdown",
      "metadata": {
        "id": "Oj2Q44oKTck-"
      },
      "source": [
        "Reamarque ce qui se passe pour Torento"
      ]
    },
    {
      "cell_type": "code",
      "metadata": {
        "colab": {
          "base_uri": "https://localhost:8080/"
        },
        "id": "LoDLz9SNTk_T",
        "outputId": "dd2365ac-3db9-43b9-8b49-0b8bb423faa9"
      },
      "source": [
        "city_data.index"
      ],
      "execution_count": null,
      "outputs": [
        {
          "output_type": "execute_result",
          "data": {
            "text/plain": [
              "Index(['Amsterdam', 'Tokyo', 'Toronto'], dtype='object')"
            ]
          },
          "metadata": {
            "tags": []
          },
          "execution_count": 51
        }
      ]
    },
    {
      "cell_type": "code",
      "metadata": {
        "colab": {
          "base_uri": "https://localhost:8080/"
        },
        "id": "A7-0xhmtU1CY",
        "outputId": "bd03946b-f367-4fb3-c208-4223700954f7"
      },
      "source": [
        "city_data.values"
      ],
      "execution_count": null,
      "outputs": [
        {
          "output_type": "execute_result",
          "data": {
            "text/plain": [
              "array([[4.2e+03, 5.0e+00],\n",
              "       [6.5e+03, 8.0e+00],\n",
              "       [8.0e+03,     nan]])"
            ]
          },
          "metadata": {
            "tags": []
          },
          "execution_count": 52
        }
      ]
    },
    {
      "cell_type": "markdown",
      "metadata": {
        "id": "idDqoCbNU-NU"
      },
      "source": [
        "On peut également désigner les 2 dimensions d'un DataFrame comme des axes:"
      ]
    },
    {
      "cell_type": "code",
      "metadata": {
        "colab": {
          "base_uri": "https://localhost:8080/"
        },
        "id": "9mkfZ8W8VAhG",
        "outputId": "ae5a310e-58fc-427b-9bdc-5131bf440a5c"
      },
      "source": [
        "print(city_data.axes)\r\n",
        "print(city_data.axes[0],city_data.axes[1])"
      ],
      "execution_count": null,
      "outputs": [
        {
          "output_type": "stream",
          "text": [
            "[Index(['Amsterdam', 'Tokyo', 'Toronto'], dtype='object'), Index(['revenue', 'employee_count'], dtype='object')]\n",
            "Index(['Amsterdam', 'Tokyo', 'Toronto'], dtype='object') Index(['revenue', 'employee_count'], dtype='object')\n"
          ],
          "name": "stdout"
        }
      ]
    },
    {
      "cell_type": "markdown",
      "metadata": {
        "id": "txGfqyWHVaSW"
      },
      "source": [
        "Un DataFrame est également une structure de données de type dictionnaire, il prend donc également en charge .keys () et le mot clé in. Cependant, pour un DataFrame, ceux-ci ne sont pas liés à l'index, mais aux colonnes:"
      ]
    },
    {
      "cell_type": "code",
      "metadata": {
        "colab": {
          "base_uri": "https://localhost:8080/"
        },
        "id": "Ojjc8iz3VeUI",
        "outputId": "36d6faf3-33d8-456f-c71e-6b7d91f25a34"
      },
      "source": [
        "city_data.keys()"
      ],
      "execution_count": null,
      "outputs": [
        {
          "output_type": "execute_result",
          "data": {
            "text/plain": [
              "Index(['revenue', 'employee_count'], dtype='object')"
            ]
          },
          "metadata": {
            "tags": []
          },
          "execution_count": 55
        }
      ]
    },
    {
      "cell_type": "markdown",
      "metadata": {
        "id": "P7YkaH3-V6Uo"
      },
      "source": [
        "### Revenons à notre exemple nba"
      ]
    },
    {
      "cell_type": "code",
      "metadata": {
        "colab": {
          "base_uri": "https://localhost:8080/"
        },
        "id": "1YJy8bqFV3Vr",
        "outputId": "1df46376-9e98-473b-cdec-0fa3f8111bc9"
      },
      "source": [
        "nba = pd.read_csv('https://github.com/fivethirtyeight/data/raw/master/nba-elo/nbaallelo.csv')\r\n",
        "type(nba)"
      ],
      "execution_count": null,
      "outputs": [
        {
          "output_type": "execute_result",
          "data": {
            "text/plain": [
              "pandas.core.frame.DataFrame"
            ]
          },
          "metadata": {
            "tags": []
          },
          "execution_count": 56
        }
      ]
    },
    {
      "cell_type": "code",
      "metadata": {
        "colab": {
          "base_uri": "https://localhost:8080/"
        },
        "id": "VOmKRUyHWH0F",
        "outputId": "ccfeb1c6-b2ad-4c58-f495-57d9a990146f"
      },
      "source": [
        "nba.index"
      ],
      "execution_count": null,
      "outputs": [
        {
          "output_type": "execute_result",
          "data": {
            "text/plain": [
              "RangeIndex(start=0, stop=126314, step=1)"
            ]
          },
          "metadata": {
            "tags": []
          },
          "execution_count": 57
        }
      ]
    },
    {
      "cell_type": "code",
      "metadata": {
        "colab": {
          "base_uri": "https://localhost:8080/"
        },
        "id": "N7I2Fg_qWMCk",
        "outputId": "8b2e59f6-82eb-42c5-b140-9b7e2ca88346"
      },
      "source": [
        "nba.axes"
      ],
      "execution_count": null,
      "outputs": [
        {
          "output_type": "execute_result",
          "data": {
            "text/plain": [
              "[RangeIndex(start=0, stop=126314, step=1),\n",
              " Index(['gameorder', 'game_id', 'lg_id', '_iscopy', 'year_id', 'date_game',\n",
              "        'seasongame', 'is_playoffs', 'team_id', 'fran_id', 'pts', 'elo_i',\n",
              "        'elo_n', 'win_equiv', 'opp_id', 'opp_fran', 'opp_pts', 'opp_elo_i',\n",
              "        'opp_elo_n', 'game_location', 'game_result', 'forecast', 'notes'],\n",
              "       dtype='object')]"
            ]
          },
          "metadata": {
            "tags": []
          },
          "execution_count": 58
        }
      ]
    },
    {
      "cell_type": "code",
      "metadata": {
        "colab": {
          "base_uri": "https://localhost:8080/"
        },
        "id": "zJlS6KEnWgGI",
        "outputId": "270c5c65-24c8-4542-9fc7-deffb3776424"
      },
      "source": [
        "nba.keys()"
      ],
      "execution_count": null,
      "outputs": [
        {
          "output_type": "execute_result",
          "data": {
            "text/plain": [
              "Index(['gameorder', 'game_id', 'lg_id', '_iscopy', 'year_id', 'date_game',\n",
              "       'seasongame', 'is_playoffs', 'team_id', 'fran_id', 'pts', 'elo_i',\n",
              "       'elo_n', 'win_equiv', 'opp_id', 'opp_fran', 'opp_pts', 'opp_elo_i',\n",
              "       'opp_elo_n', 'game_location', 'game_result', 'forecast', 'notes'],\n",
              "      dtype='object')"
            ]
          },
          "metadata": {
            "tags": []
          },
          "execution_count": 59
        }
      ]
    },
    {
      "cell_type": "markdown",
      "metadata": {
        "id": "64H7-ScgWi6d"
      },
      "source": [
        "Lorsque vous utilisez ces méthodes pour répondre à des questions sur votre ensemble de données, assurez-vous de garder à l'esprit si vous travaillez avec une série ou un DataFrame afin que votre interprétation soit précise."
      ]
    },
    {
      "cell_type": "markdown",
      "metadata": {
        "id": "HXvFQ3C0WjyQ"
      },
      "source": [
        "## Accès aux éléments de la série\r\n",
        "Dans la section ci-dessus, vous avez créé une série Pandas basée sur une liste Python et comparé les deux structures de données. Vous avez vu comment un objet Series est similaire à des listes et des dictionnaires de plusieurs manières. Une autre similitude est que vous pouvez également utiliser l'opérateur d'indexation ([]) pour Series.\r\n",
        "\r\n",
        "Vous apprendrez également à utiliser deux méthodes d'accès spécifiques à Pandas:\r\n",
        "\r\n",
        "* .loc\r\n",
        "* .iloc\r\n",
        "\r\n",
        "Vous verrez que ces méthodes d'accès aux données peuvent être beaucoup plus lisibles que l'opérateur d'indexation.\r\n",
        "\r\n",
        "### Utilisation de l'opérateur d'indexation\r\n",
        "Rappelez-vous qu'une série a deux indices:\r\n",
        "\r\n",
        "1. Un index positionnel ou implicite, qui est toujours un RangeIndex\r\n",
        "2. Une étiquette ou un index explicite, qui peut contenir tous les objets hachables\r\n",
        "\r\n",
        "Ensuite, revisitez l'objet city_revenues:"
      ]
    },
    {
      "cell_type": "code",
      "metadata": {
        "colab": {
          "base_uri": "https://localhost:8080/"
        },
        "id": "rCKp8sjVW8HY",
        "outputId": "74029d93-96d9-406b-9465-bbcb8254aa73"
      },
      "source": [
        "city_revenues"
      ],
      "execution_count": null,
      "outputs": [
        {
          "output_type": "execute_result",
          "data": {
            "text/plain": [
              "Amsterdam    4200\n",
              "Toronto      8000\n",
              "Tokyo        6500\n",
              "dtype: int64"
            ]
          },
          "metadata": {
            "tags": []
          },
          "execution_count": 60
        }
      ]
    },
    {
      "cell_type": "code",
      "metadata": {
        "colab": {
          "base_uri": "https://localhost:8080/"
        },
        "id": "CIJqpnzFXG3g",
        "outputId": "75614e8c-e81f-4230-b59c-6e9a26bfd22d"
      },
      "source": [
        "city_revenues['Amsterdam']"
      ],
      "execution_count": null,
      "outputs": [
        {
          "output_type": "execute_result",
          "data": {
            "text/plain": [
              "4200"
            ]
          },
          "metadata": {
            "tags": []
          },
          "execution_count": 61
        }
      ]
    },
    {
      "cell_type": "code",
      "metadata": {
        "colab": {
          "base_uri": "https://localhost:8080/"
        },
        "id": "vLIVOiDkXK9l",
        "outputId": "bf431aff-f854-4f51-fd19-5f0891f61686"
      },
      "source": [
        "city_revenues[0]"
      ],
      "execution_count": null,
      "outputs": [
        {
          "output_type": "execute_result",
          "data": {
            "text/plain": [
              "4200"
            ]
          },
          "metadata": {
            "tags": []
          },
          "execution_count": 62
        }
      ]
    },
    {
      "cell_type": "code",
      "metadata": {
        "colab": {
          "base_uri": "https://localhost:8080/"
        },
        "id": "MR5HdK8wXT8L",
        "outputId": "76f8aad7-0141-4234-f2c9-535586c7e4c6"
      },
      "source": [
        "# Vous pouvez également utiliser des indices et des tranches négatifs, comme vous le feriez pour une liste:\r\n",
        "city_revenues[-1]"
      ],
      "execution_count": null,
      "outputs": [
        {
          "output_type": "execute_result",
          "data": {
            "text/plain": [
              "6500"
            ]
          },
          "metadata": {
            "tags": []
          },
          "execution_count": 63
        }
      ]
    },
    {
      "cell_type": "code",
      "metadata": {
        "colab": {
          "base_uri": "https://localhost:8080/"
        },
        "id": "g9yCj_UHXbwF",
        "outputId": "f9ee7aa5-7354-477b-9128-f71e76fdf604"
      },
      "source": [
        "city_revenues[1:]"
      ],
      "execution_count": null,
      "outputs": [
        {
          "output_type": "execute_result",
          "data": {
            "text/plain": [
              "Toronto    8000\n",
              "Tokyo      6500\n",
              "dtype: int64"
            ]
          },
          "metadata": {
            "tags": []
          },
          "execution_count": 64
        }
      ]
    },
    {
      "cell_type": "code",
      "metadata": {
        "id": "-zDYCb6OXhuW"
      },
      "source": [
        "city_revenues[\"Toronto\":]\r\n"
      ],
      "execution_count": null,
      "outputs": []
    }
  ]
}