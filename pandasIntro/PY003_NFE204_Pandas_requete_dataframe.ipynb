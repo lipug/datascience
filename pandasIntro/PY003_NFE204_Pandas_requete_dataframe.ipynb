{
  "nbformat": 4,
  "nbformat_minor": 0,
  "metadata": {
    "colab": {
      "name": "PY003_NFE204_Pandas_requete_dataframe.ipynb",
      "provenance": [],
      "collapsed_sections": [],
      "authorship_tag": "ABX9TyOPn6S4cAoq1nDu1zDLxhGE",
      "include_colab_link": true
    },
    "kernelspec": {
      "name": "python3",
      "display_name": "Python 3"
    }
  },
  "cells": [
    {
      "cell_type": "markdown",
      "metadata": {
        "id": "view-in-github",
        "colab_type": "text"
      },
      "source": [
        "<a href=\"https://colab.research.google.com/github/lipug/datascience/blob/main/PY003_NFE204_Pandas_requete_dataframe.ipynb\" target=\"_parent\"><img src=\"https://colab.research.google.com/assets/colab-badge.svg\" alt=\"Open In Colab\"/></a>"
      ]
    },
    {
      "cell_type": "markdown",
      "metadata": {
        "id": "-G_A-vOtvJAN"
      },
      "source": [
        "## Notre exemple NBA\r\n",
        "\r\n"
      ]
    },
    {
      "cell_type": "code",
      "metadata": {
        "colab": {
          "base_uri": "https://localhost:8080/"
        },
        "id": "nERSw8oQvCkn",
        "outputId": "0c9f88da-de51-4df2-ffff-4c82b2c2061a"
      },
      "source": [
        "import pandas as pd\r\n",
        "nba = pd.read_csv('https://github.com/fivethirtyeight/data/raw/master/nba-elo/nbaallelo.csv')\r\n",
        "type(nba)"
      ],
      "execution_count": 18,
      "outputs": [
        {
          "output_type": "execute_result",
          "data": {
            "text/plain": [
              "pandas.core.frame.DataFrame"
            ]
          },
          "metadata": {
            "tags": []
          },
          "execution_count": 18
        }
      ]
    },
    {
      "cell_type": "markdown",
      "metadata": {
        "id": "tS5_myYyvTon"
      },
      "source": [
        "# Requêtes sur dataframe pandas\r\n",
        "\r\n",
        "Nous avons vu comment accéder à des sous-ensembles d'un énorme ensemble de données en fonction de ses indices. \r\n",
        "À présent, sélectionnerons des lignes en fonction des valeurs des colonnes. Par exemple, vous pouvez créer un nouveau DataFrame qui contient uniquement les jeux NBA joués après 2010:"
      ]
    },
    {
      "cell_type": "code",
      "metadata": {
        "colab": {
          "base_uri": "https://localhost:8080/",
          "height": 435
        },
        "id": "AZyU4ktAwJQn",
        "outputId": "4f4ba343-1deb-454b-c6fb-95cc0788f26b"
      },
      "source": [
        "current_decade = nba.loc[nba.year_id > 2010]\r\n",
        "# current_decade = nba.loc[nba['year_id'] > 2010]\r\n",
        "# current_decade = nba[nba.year_id > 2010]\r\n",
        "current_decade"
      ],
      "execution_count": 9,
      "outputs": [
        {
          "output_type": "execute_result",
          "data": {
            "text/html": [
              "<div>\n",
              "<style scoped>\n",
              "    .dataframe tbody tr th:only-of-type {\n",
              "        vertical-align: middle;\n",
              "    }\n",
              "\n",
              "    .dataframe tbody tr th {\n",
              "        vertical-align: top;\n",
              "    }\n",
              "\n",
              "    .dataframe thead th {\n",
              "        text-align: right;\n",
              "    }\n",
              "</style>\n",
              "<table border=\"1\" class=\"dataframe\">\n",
              "  <thead>\n",
              "    <tr style=\"text-align: right;\">\n",
              "      <th></th>\n",
              "      <th>gameorder</th>\n",
              "      <th>game_id</th>\n",
              "      <th>lg_id</th>\n",
              "      <th>_iscopy</th>\n",
              "      <th>year_id</th>\n",
              "      <th>date_game</th>\n",
              "      <th>seasongame</th>\n",
              "      <th>is_playoffs</th>\n",
              "      <th>team_id</th>\n",
              "      <th>fran_id</th>\n",
              "      <th>pts</th>\n",
              "      <th>elo_i</th>\n",
              "      <th>elo_n</th>\n",
              "      <th>win_equiv</th>\n",
              "      <th>opp_id</th>\n",
              "      <th>opp_fran</th>\n",
              "      <th>opp_pts</th>\n",
              "      <th>opp_elo_i</th>\n",
              "      <th>opp_elo_n</th>\n",
              "      <th>game_location</th>\n",
              "      <th>game_result</th>\n",
              "      <th>forecast</th>\n",
              "      <th>notes</th>\n",
              "    </tr>\n",
              "  </thead>\n",
              "  <tbody>\n",
              "    <tr>\n",
              "      <th>113656</th>\n",
              "      <td>56829</td>\n",
              "      <td>201010260BOS</td>\n",
              "      <td>NBA</td>\n",
              "      <td>1</td>\n",
              "      <td>2011</td>\n",
              "      <td>10/26/2010</td>\n",
              "      <td>1</td>\n",
              "      <td>0</td>\n",
              "      <td>MIA</td>\n",
              "      <td>Heat</td>\n",
              "      <td>80</td>\n",
              "      <td>1547.3638</td>\n",
              "      <td>1543.1600</td>\n",
              "      <td>45.141479</td>\n",
              "      <td>BOS</td>\n",
              "      <td>Celtics</td>\n",
              "      <td>88</td>\n",
              "      <td>1625.0994</td>\n",
              "      <td>1629.3031</td>\n",
              "      <td>A</td>\n",
              "      <td>L</td>\n",
              "      <td>0.264418</td>\n",
              "      <td>NaN</td>\n",
              "    </tr>\n",
              "    <tr>\n",
              "      <th>113657</th>\n",
              "      <td>56829</td>\n",
              "      <td>201010260BOS</td>\n",
              "      <td>NBA</td>\n",
              "      <td>0</td>\n",
              "      <td>2011</td>\n",
              "      <td>10/26/2010</td>\n",
              "      <td>1</td>\n",
              "      <td>0</td>\n",
              "      <td>BOS</td>\n",
              "      <td>Celtics</td>\n",
              "      <td>88</td>\n",
              "      <td>1625.0994</td>\n",
              "      <td>1629.3031</td>\n",
              "      <td>53.754559</td>\n",
              "      <td>MIA</td>\n",
              "      <td>Heat</td>\n",
              "      <td>80</td>\n",
              "      <td>1547.3638</td>\n",
              "      <td>1543.1600</td>\n",
              "      <td>H</td>\n",
              "      <td>W</td>\n",
              "      <td>0.735582</td>\n",
              "      <td>NaN</td>\n",
              "    </tr>\n",
              "    <tr>\n",
              "      <th>113658</th>\n",
              "      <td>56830</td>\n",
              "      <td>201010260LAL</td>\n",
              "      <td>NBA</td>\n",
              "      <td>1</td>\n",
              "      <td>2011</td>\n",
              "      <td>10/26/2010</td>\n",
              "      <td>1</td>\n",
              "      <td>0</td>\n",
              "      <td>HOU</td>\n",
              "      <td>Rockets</td>\n",
              "      <td>110</td>\n",
              "      <td>1504.1956</td>\n",
              "      <td>1502.5969</td>\n",
              "      <td>40.900764</td>\n",
              "      <td>LAL</td>\n",
              "      <td>Lakers</td>\n",
              "      <td>112</td>\n",
              "      <td>1647.6016</td>\n",
              "      <td>1649.2002</td>\n",
              "      <td>A</td>\n",
              "      <td>L</td>\n",
              "      <td>0.197632</td>\n",
              "      <td>NaN</td>\n",
              "    </tr>\n",
              "    <tr>\n",
              "      <th>113659</th>\n",
              "      <td>56830</td>\n",
              "      <td>201010260LAL</td>\n",
              "      <td>NBA</td>\n",
              "      <td>0</td>\n",
              "      <td>2011</td>\n",
              "      <td>10/26/2010</td>\n",
              "      <td>1</td>\n",
              "      <td>0</td>\n",
              "      <td>LAL</td>\n",
              "      <td>Lakers</td>\n",
              "      <td>112</td>\n",
              "      <td>1647.6016</td>\n",
              "      <td>1649.2002</td>\n",
              "      <td>55.608730</td>\n",
              "      <td>HOU</td>\n",
              "      <td>Rockets</td>\n",
              "      <td>110</td>\n",
              "      <td>1504.1956</td>\n",
              "      <td>1502.5969</td>\n",
              "      <td>H</td>\n",
              "      <td>W</td>\n",
              "      <td>0.802368</td>\n",
              "      <td>NaN</td>\n",
              "    </tr>\n",
              "    <tr>\n",
              "      <th>113660</th>\n",
              "      <td>56831</td>\n",
              "      <td>201010260POR</td>\n",
              "      <td>NBA</td>\n",
              "      <td>1</td>\n",
              "      <td>2011</td>\n",
              "      <td>10/26/2010</td>\n",
              "      <td>1</td>\n",
              "      <td>0</td>\n",
              "      <td>PHO</td>\n",
              "      <td>Suns</td>\n",
              "      <td>92</td>\n",
              "      <td>1643.0225</td>\n",
              "      <td>1630.6204</td>\n",
              "      <td>53.879230</td>\n",
              "      <td>POR</td>\n",
              "      <td>Trailblazers</td>\n",
              "      <td>106</td>\n",
              "      <td>1552.8141</td>\n",
              "      <td>1565.2162</td>\n",
              "      <td>A</td>\n",
              "      <td>L</td>\n",
              "      <td>0.485912</td>\n",
              "      <td>NaN</td>\n",
              "    </tr>\n",
              "    <tr>\n",
              "      <th>...</th>\n",
              "      <td>...</td>\n",
              "      <td>...</td>\n",
              "      <td>...</td>\n",
              "      <td>...</td>\n",
              "      <td>...</td>\n",
              "      <td>...</td>\n",
              "      <td>...</td>\n",
              "      <td>...</td>\n",
              "      <td>...</td>\n",
              "      <td>...</td>\n",
              "      <td>...</td>\n",
              "      <td>...</td>\n",
              "      <td>...</td>\n",
              "      <td>...</td>\n",
              "      <td>...</td>\n",
              "      <td>...</td>\n",
              "      <td>...</td>\n",
              "      <td>...</td>\n",
              "      <td>...</td>\n",
              "      <td>...</td>\n",
              "      <td>...</td>\n",
              "      <td>...</td>\n",
              "      <td>...</td>\n",
              "    </tr>\n",
              "    <tr>\n",
              "      <th>126309</th>\n",
              "      <td>63155</td>\n",
              "      <td>201506110CLE</td>\n",
              "      <td>NBA</td>\n",
              "      <td>0</td>\n",
              "      <td>2015</td>\n",
              "      <td>6/11/2015</td>\n",
              "      <td>100</td>\n",
              "      <td>1</td>\n",
              "      <td>CLE</td>\n",
              "      <td>Cavaliers</td>\n",
              "      <td>82</td>\n",
              "      <td>1723.4149</td>\n",
              "      <td>1704.3949</td>\n",
              "      <td>60.309792</td>\n",
              "      <td>GSW</td>\n",
              "      <td>Warriors</td>\n",
              "      <td>103</td>\n",
              "      <td>1790.9591</td>\n",
              "      <td>1809.9791</td>\n",
              "      <td>H</td>\n",
              "      <td>L</td>\n",
              "      <td>0.546572</td>\n",
              "      <td>NaN</td>\n",
              "    </tr>\n",
              "    <tr>\n",
              "      <th>126310</th>\n",
              "      <td>63156</td>\n",
              "      <td>201506140GSW</td>\n",
              "      <td>NBA</td>\n",
              "      <td>0</td>\n",
              "      <td>2015</td>\n",
              "      <td>6/14/2015</td>\n",
              "      <td>102</td>\n",
              "      <td>1</td>\n",
              "      <td>GSW</td>\n",
              "      <td>Warriors</td>\n",
              "      <td>104</td>\n",
              "      <td>1809.9791</td>\n",
              "      <td>1813.6349</td>\n",
              "      <td>68.013329</td>\n",
              "      <td>CLE</td>\n",
              "      <td>Cavaliers</td>\n",
              "      <td>91</td>\n",
              "      <td>1704.3949</td>\n",
              "      <td>1700.7391</td>\n",
              "      <td>H</td>\n",
              "      <td>W</td>\n",
              "      <td>0.765565</td>\n",
              "      <td>NaN</td>\n",
              "    </tr>\n",
              "    <tr>\n",
              "      <th>126311</th>\n",
              "      <td>63156</td>\n",
              "      <td>201506140GSW</td>\n",
              "      <td>NBA</td>\n",
              "      <td>1</td>\n",
              "      <td>2015</td>\n",
              "      <td>6/14/2015</td>\n",
              "      <td>101</td>\n",
              "      <td>1</td>\n",
              "      <td>CLE</td>\n",
              "      <td>Cavaliers</td>\n",
              "      <td>91</td>\n",
              "      <td>1704.3949</td>\n",
              "      <td>1700.7391</td>\n",
              "      <td>60.010067</td>\n",
              "      <td>GSW</td>\n",
              "      <td>Warriors</td>\n",
              "      <td>104</td>\n",
              "      <td>1809.9791</td>\n",
              "      <td>1813.6349</td>\n",
              "      <td>A</td>\n",
              "      <td>L</td>\n",
              "      <td>0.234435</td>\n",
              "      <td>NaN</td>\n",
              "    </tr>\n",
              "    <tr>\n",
              "      <th>126312</th>\n",
              "      <td>63157</td>\n",
              "      <td>201506170CLE</td>\n",
              "      <td>NBA</td>\n",
              "      <td>0</td>\n",
              "      <td>2015</td>\n",
              "      <td>6/16/2015</td>\n",
              "      <td>102</td>\n",
              "      <td>1</td>\n",
              "      <td>CLE</td>\n",
              "      <td>Cavaliers</td>\n",
              "      <td>97</td>\n",
              "      <td>1700.7391</td>\n",
              "      <td>1692.0859</td>\n",
              "      <td>59.290245</td>\n",
              "      <td>GSW</td>\n",
              "      <td>Warriors</td>\n",
              "      <td>105</td>\n",
              "      <td>1813.6349</td>\n",
              "      <td>1822.2881</td>\n",
              "      <td>H</td>\n",
              "      <td>L</td>\n",
              "      <td>0.481450</td>\n",
              "      <td>NaN</td>\n",
              "    </tr>\n",
              "    <tr>\n",
              "      <th>126313</th>\n",
              "      <td>63157</td>\n",
              "      <td>201506170CLE</td>\n",
              "      <td>NBA</td>\n",
              "      <td>1</td>\n",
              "      <td>2015</td>\n",
              "      <td>6/16/2015</td>\n",
              "      <td>103</td>\n",
              "      <td>1</td>\n",
              "      <td>GSW</td>\n",
              "      <td>Warriors</td>\n",
              "      <td>105</td>\n",
              "      <td>1813.6349</td>\n",
              "      <td>1822.2881</td>\n",
              "      <td>68.519516</td>\n",
              "      <td>CLE</td>\n",
              "      <td>Cavaliers</td>\n",
              "      <td>97</td>\n",
              "      <td>1700.7391</td>\n",
              "      <td>1692.0859</td>\n",
              "      <td>A</td>\n",
              "      <td>W</td>\n",
              "      <td>0.518550</td>\n",
              "      <td>NaN</td>\n",
              "    </tr>\n",
              "  </tbody>\n",
              "</table>\n",
              "<p>12658 rows × 23 columns</p>\n",
              "</div>"
            ],
            "text/plain": [
              "        gameorder       game_id lg_id  ...  game_result  forecast notes\n",
              "113656      56829  201010260BOS   NBA  ...            L  0.264418   NaN\n",
              "113657      56829  201010260BOS   NBA  ...            W  0.735582   NaN\n",
              "113658      56830  201010260LAL   NBA  ...            L  0.197632   NaN\n",
              "113659      56830  201010260LAL   NBA  ...            W  0.802368   NaN\n",
              "113660      56831  201010260POR   NBA  ...            L  0.485912   NaN\n",
              "...           ...           ...   ...  ...          ...       ...   ...\n",
              "126309      63155  201506110CLE   NBA  ...            L  0.546572   NaN\n",
              "126310      63156  201506140GSW   NBA  ...            W  0.765565   NaN\n",
              "126311      63156  201506140GSW   NBA  ...            L  0.234435   NaN\n",
              "126312      63157  201506170CLE   NBA  ...            L  0.481450   NaN\n",
              "126313      63157  201506170CLE   NBA  ...            W  0.518550   NaN\n",
              "\n",
              "[12658 rows x 23 columns]"
            ]
          },
          "metadata": {
            "tags": []
          },
          "execution_count": 9
        }
      ]
    },
    {
      "cell_type": "code",
      "metadata": {
        "colab": {
          "base_uri": "https://localhost:8080/"
        },
        "id": "x-0glAx9xVEt",
        "outputId": "9c63194c-0ca3-4cb8-f52c-c1ca75099948"
      },
      "source": [
        "current_decade.shape"
      ],
      "execution_count": 10,
      "outputs": [
        {
          "output_type": "execute_result",
          "data": {
            "text/plain": [
              "(12658, 23)"
            ]
          },
          "metadata": {
            "tags": []
          },
          "execution_count": 10
        }
      ]
    },
    {
      "cell_type": "code",
      "metadata": {
        "id": "sQTKVPngxfHt"
      },
      "source": [
        "# des jeux avec 'notes' (commentaires)\r\n",
        "games_with_notes = nba[nba[\"notes\"].notnull()]"
      ],
      "execution_count": null,
      "outputs": []
    },
    {
      "cell_type": "code",
      "metadata": {
        "colab": {
          "base_uri": "https://localhost:8080/",
          "height": 222
        },
        "id": "CfsWWBHoxofd",
        "outputId": "09cce44d-8b0b-4e07-a664-d147a26a1463"
      },
      "source": [
        "ers = nba[nba[\"fran_id\"].str.endswith(\"ers\")]\r\n",
        "ers.head()"
      ],
      "execution_count": 12,
      "outputs": [
        {
          "output_type": "execute_result",
          "data": {
            "text/html": [
              "<div>\n",
              "<style scoped>\n",
              "    .dataframe tbody tr th:only-of-type {\n",
              "        vertical-align: middle;\n",
              "    }\n",
              "\n",
              "    .dataframe tbody tr th {\n",
              "        vertical-align: top;\n",
              "    }\n",
              "\n",
              "    .dataframe thead th {\n",
              "        text-align: right;\n",
              "    }\n",
              "</style>\n",
              "<table border=\"1\" class=\"dataframe\">\n",
              "  <thead>\n",
              "    <tr style=\"text-align: right;\">\n",
              "      <th></th>\n",
              "      <th>gameorder</th>\n",
              "      <th>game_id</th>\n",
              "      <th>lg_id</th>\n",
              "      <th>_iscopy</th>\n",
              "      <th>year_id</th>\n",
              "      <th>date_game</th>\n",
              "      <th>seasongame</th>\n",
              "      <th>is_playoffs</th>\n",
              "      <th>team_id</th>\n",
              "      <th>fran_id</th>\n",
              "      <th>pts</th>\n",
              "      <th>elo_i</th>\n",
              "      <th>elo_n</th>\n",
              "      <th>win_equiv</th>\n",
              "      <th>opp_id</th>\n",
              "      <th>opp_fran</th>\n",
              "      <th>opp_pts</th>\n",
              "      <th>opp_elo_i</th>\n",
              "      <th>opp_elo_n</th>\n",
              "      <th>game_location</th>\n",
              "      <th>game_result</th>\n",
              "      <th>forecast</th>\n",
              "      <th>notes</th>\n",
              "    </tr>\n",
              "  </thead>\n",
              "  <tbody>\n",
              "    <tr>\n",
              "      <th>7</th>\n",
              "      <td>4</td>\n",
              "      <td>194611020PRO</td>\n",
              "      <td>NBA</td>\n",
              "      <td>0</td>\n",
              "      <td>1947</td>\n",
              "      <td>11/2/1946</td>\n",
              "      <td>1</td>\n",
              "      <td>0</td>\n",
              "      <td>PRO</td>\n",
              "      <td>Steamrollers</td>\n",
              "      <td>59</td>\n",
              "      <td>1300.0000</td>\n",
              "      <td>1305.1542</td>\n",
              "      <td>41.540619</td>\n",
              "      <td>BOS</td>\n",
              "      <td>Celtics</td>\n",
              "      <td>53</td>\n",
              "      <td>1300.0000</td>\n",
              "      <td>1294.8458</td>\n",
              "      <td>H</td>\n",
              "      <td>W</td>\n",
              "      <td>0.640065</td>\n",
              "      <td>NaN</td>\n",
              "    </tr>\n",
              "    <tr>\n",
              "      <th>9</th>\n",
              "      <td>5</td>\n",
              "      <td>194611020STB</td>\n",
              "      <td>NBA</td>\n",
              "      <td>0</td>\n",
              "      <td>1947</td>\n",
              "      <td>11/2/1946</td>\n",
              "      <td>1</td>\n",
              "      <td>0</td>\n",
              "      <td>STB</td>\n",
              "      <td>Bombers</td>\n",
              "      <td>56</td>\n",
              "      <td>1300.0000</td>\n",
              "      <td>1304.6908</td>\n",
              "      <td>41.492020</td>\n",
              "      <td>PIT</td>\n",
              "      <td>Ironmen</td>\n",
              "      <td>51</td>\n",
              "      <td>1300.0000</td>\n",
              "      <td>1295.3092</td>\n",
              "      <td>H</td>\n",
              "      <td>W</td>\n",
              "      <td>0.640065</td>\n",
              "      <td>NaN</td>\n",
              "    </tr>\n",
              "    <tr>\n",
              "      <th>16</th>\n",
              "      <td>9</td>\n",
              "      <td>194611050DTF</td>\n",
              "      <td>NBA</td>\n",
              "      <td>1</td>\n",
              "      <td>1947</td>\n",
              "      <td>11/5/1946</td>\n",
              "      <td>2</td>\n",
              "      <td>0</td>\n",
              "      <td>STB</td>\n",
              "      <td>Bombers</td>\n",
              "      <td>53</td>\n",
              "      <td>1304.6908</td>\n",
              "      <td>1312.8473</td>\n",
              "      <td>42.347137</td>\n",
              "      <td>DTF</td>\n",
              "      <td>Falcons</td>\n",
              "      <td>49</td>\n",
              "      <td>1279.6189</td>\n",
              "      <td>1271.4624</td>\n",
              "      <td>A</td>\n",
              "      <td>W</td>\n",
              "      <td>0.393811</td>\n",
              "      <td>NaN</td>\n",
              "    </tr>\n",
              "    <tr>\n",
              "      <th>20</th>\n",
              "      <td>11</td>\n",
              "      <td>194611070PRO</td>\n",
              "      <td>NBA</td>\n",
              "      <td>0</td>\n",
              "      <td>1947</td>\n",
              "      <td>11/7/1946</td>\n",
              "      <td>2</td>\n",
              "      <td>0</td>\n",
              "      <td>PRO</td>\n",
              "      <td>Steamrollers</td>\n",
              "      <td>73</td>\n",
              "      <td>1305.1542</td>\n",
              "      <td>1311.5032</td>\n",
              "      <td>42.206284</td>\n",
              "      <td>CHS</td>\n",
              "      <td>Stags</td>\n",
              "      <td>65</td>\n",
              "      <td>1316.0840</td>\n",
              "      <td>1309.7350</td>\n",
              "      <td>H</td>\n",
              "      <td>W</td>\n",
              "      <td>0.625446</td>\n",
              "      <td>NaN</td>\n",
              "    </tr>\n",
              "    <tr>\n",
              "      <th>22</th>\n",
              "      <td>12</td>\n",
              "      <td>194611070STB</td>\n",
              "      <td>NBA</td>\n",
              "      <td>0</td>\n",
              "      <td>1947</td>\n",
              "      <td>11/7/1946</td>\n",
              "      <td>3</td>\n",
              "      <td>0</td>\n",
              "      <td>STB</td>\n",
              "      <td>Bombers</td>\n",
              "      <td>63</td>\n",
              "      <td>1312.8473</td>\n",
              "      <td>1302.5988</td>\n",
              "      <td>41.272594</td>\n",
              "      <td>NYK</td>\n",
              "      <td>Knicks</td>\n",
              "      <td>68</td>\n",
              "      <td>1297.0712</td>\n",
              "      <td>1307.3197</td>\n",
              "      <td>H</td>\n",
              "      <td>L</td>\n",
              "      <td>0.660710</td>\n",
              "      <td>NaN</td>\n",
              "    </tr>\n",
              "  </tbody>\n",
              "</table>\n",
              "</div>"
            ],
            "text/plain": [
              "    gameorder       game_id lg_id  ...  game_result  forecast notes\n",
              "7           4  194611020PRO   NBA  ...            W  0.640065   NaN\n",
              "9           5  194611020STB   NBA  ...            W  0.640065   NaN\n",
              "16          9  194611050DTF   NBA  ...            W  0.393811   NaN\n",
              "20         11  194611070PRO   NBA  ...            W  0.625446   NaN\n",
              "22         12  194611070STB   NBA  ...            L  0.660710   NaN\n",
              "\n",
              "[5 rows x 23 columns]"
            ]
          },
          "metadata": {
            "tags": []
          },
          "execution_count": 12
        }
      ]
    },
    {
      "cell_type": "markdown",
      "metadata": {
        "id": "oNIwJ-zeyS7c"
      },
      "source": [
        "### Critère multiples"
      ]
    },
    {
      "cell_type": "code",
      "metadata": {
        "colab": {
          "base_uri": "https://localhost:8080/",
          "height": 202
        },
        "id": "kJ8-WBuLyU93",
        "outputId": "12e2bea1-fb0d-4b2c-dc84-070980cadc03"
      },
      "source": [
        "nba.loc[\r\n",
        "    (nba[\"_iscopy\"] == 0) &\r\n",
        "    (nba[\"pts\"] > 100) &\r\n",
        "    (nba[\"opp_pts\"] > 100) &\r\n",
        "    (nba[\"team_id\"] == \"BLB\")\r\n",
        ", [\"pts\", \"opp_pts\", \"team_id\"]]"
      ],
      "execution_count": 17,
      "outputs": [
        {
          "output_type": "execute_result",
          "data": {
            "text/html": [
              "<div>\n",
              "<style scoped>\n",
              "    .dataframe tbody tr th:only-of-type {\n",
              "        vertical-align: middle;\n",
              "    }\n",
              "\n",
              "    .dataframe tbody tr th {\n",
              "        vertical-align: top;\n",
              "    }\n",
              "\n",
              "    .dataframe thead th {\n",
              "        text-align: right;\n",
              "    }\n",
              "</style>\n",
              "<table border=\"1\" class=\"dataframe\">\n",
              "  <thead>\n",
              "    <tr style=\"text-align: right;\">\n",
              "      <th></th>\n",
              "      <th>pts</th>\n",
              "      <th>opp_pts</th>\n",
              "      <th>team_id</th>\n",
              "    </tr>\n",
              "  </thead>\n",
              "  <tbody>\n",
              "    <tr>\n",
              "      <th>1726</th>\n",
              "      <td>114</td>\n",
              "      <td>115</td>\n",
              "      <td>BLB</td>\n",
              "    </tr>\n",
              "    <tr>\n",
              "      <th>4890</th>\n",
              "      <td>126</td>\n",
              "      <td>105</td>\n",
              "      <td>BLB</td>\n",
              "    </tr>\n",
              "    <tr>\n",
              "      <th>4909</th>\n",
              "      <td>104</td>\n",
              "      <td>112</td>\n",
              "      <td>BLB</td>\n",
              "    </tr>\n",
              "    <tr>\n",
              "      <th>5208</th>\n",
              "      <td>107</td>\n",
              "      <td>113</td>\n",
              "      <td>BLB</td>\n",
              "    </tr>\n",
              "    <tr>\n",
              "      <th>5825</th>\n",
              "      <td>110</td>\n",
              "      <td>111</td>\n",
              "      <td>BLB</td>\n",
              "    </tr>\n",
              "  </tbody>\n",
              "</table>\n",
              "</div>"
            ],
            "text/plain": [
              "      pts  opp_pts team_id\n",
              "1726  114      115     BLB\n",
              "4890  126      105     BLB\n",
              "4909  104      112     BLB\n",
              "5208  107      113     BLB\n",
              "5825  110      111     BLB"
            ]
          },
          "metadata": {
            "tags": []
          },
          "execution_count": 17
        }
      ]
    },
    {
      "cell_type": "markdown",
      "metadata": {
        "id": "0TgCV0gUJg0r"
      },
      "source": [
        "# Regroupement et agrégation de vos données\r\n",
        "Vous souhaiterez peut-être également découvrir d'autres fonctionnalités de votre ensemble de données, telles que la somme, la moyenne ou la valeur moyenne d'un groupe d'éléments. Heureusement, la bibliothèque Pandas Python propose des fonctions de regroupement et d'agrégation pour vous aider à accomplir cette tâche.\r\n",
        "\r\n",
        "Une série a plus de vingt méthodes différentes pour calculer les statistiques descriptives. Voici quelques exemples:"
      ]
    },
    {
      "cell_type": "code",
      "metadata": {
        "colab": {
          "base_uri": "https://localhost:8080/",
          "height": 99
        },
        "id": "wXaVE6SJJoWG",
        "outputId": "a4f9a411-21e4-4673-807d-6b597cd4bb34"
      },
      "source": [
        "nba.head(1)"
      ],
      "execution_count": 20,
      "outputs": [
        {
          "output_type": "execute_result",
          "data": {
            "text/html": [
              "<div>\n",
              "<style scoped>\n",
              "    .dataframe tbody tr th:only-of-type {\n",
              "        vertical-align: middle;\n",
              "    }\n",
              "\n",
              "    .dataframe tbody tr th {\n",
              "        vertical-align: top;\n",
              "    }\n",
              "\n",
              "    .dataframe thead th {\n",
              "        text-align: right;\n",
              "    }\n",
              "</style>\n",
              "<table border=\"1\" class=\"dataframe\">\n",
              "  <thead>\n",
              "    <tr style=\"text-align: right;\">\n",
              "      <th></th>\n",
              "      <th>gameorder</th>\n",
              "      <th>game_id</th>\n",
              "      <th>lg_id</th>\n",
              "      <th>_iscopy</th>\n",
              "      <th>year_id</th>\n",
              "      <th>date_game</th>\n",
              "      <th>seasongame</th>\n",
              "      <th>is_playoffs</th>\n",
              "      <th>team_id</th>\n",
              "      <th>fran_id</th>\n",
              "      <th>pts</th>\n",
              "      <th>elo_i</th>\n",
              "      <th>elo_n</th>\n",
              "      <th>win_equiv</th>\n",
              "      <th>opp_id</th>\n",
              "      <th>opp_fran</th>\n",
              "      <th>opp_pts</th>\n",
              "      <th>opp_elo_i</th>\n",
              "      <th>opp_elo_n</th>\n",
              "      <th>game_location</th>\n",
              "      <th>game_result</th>\n",
              "      <th>forecast</th>\n",
              "      <th>notes</th>\n",
              "    </tr>\n",
              "  </thead>\n",
              "  <tbody>\n",
              "    <tr>\n",
              "      <th>0</th>\n",
              "      <td>1</td>\n",
              "      <td>194611010TRH</td>\n",
              "      <td>NBA</td>\n",
              "      <td>0</td>\n",
              "      <td>1947</td>\n",
              "      <td>11/1/1946</td>\n",
              "      <td>1</td>\n",
              "      <td>0</td>\n",
              "      <td>TRH</td>\n",
              "      <td>Huskies</td>\n",
              "      <td>66</td>\n",
              "      <td>1300.0</td>\n",
              "      <td>1293.2767</td>\n",
              "      <td>40.29483</td>\n",
              "      <td>NYK</td>\n",
              "      <td>Knicks</td>\n",
              "      <td>68</td>\n",
              "      <td>1300.0</td>\n",
              "      <td>1306.7233</td>\n",
              "      <td>H</td>\n",
              "      <td>L</td>\n",
              "      <td>0.640065</td>\n",
              "      <td>NaN</td>\n",
              "    </tr>\n",
              "  </tbody>\n",
              "</table>\n",
              "</div>"
            ],
            "text/plain": [
              "   gameorder       game_id lg_id  ...  game_result  forecast notes\n",
              "0          1  194611010TRH   NBA  ...            L  0.640065   NaN\n",
              "\n",
              "[1 rows x 23 columns]"
            ]
          },
          "metadata": {
            "tags": []
          },
          "execution_count": 20
        }
      ]
    },
    {
      "cell_type": "code",
      "metadata": {
        "colab": {
          "base_uri": "https://localhost:8080/"
        },
        "id": "f-Q0RETaJ9nF",
        "outputId": "cb81b72b-ea26-470c-bfc0-5b8b0b070e07"
      },
      "source": [
        "nba.pts.sum()"
      ],
      "execution_count": 21,
      "outputs": [
        {
          "output_type": "execute_result",
          "data": {
            "text/plain": [
              "12976235"
            ]
          },
          "metadata": {
            "tags": []
          },
          "execution_count": 21
        }
      ]
    },
    {
      "cell_type": "code",
      "metadata": {
        "colab": {
          "base_uri": "https://localhost:8080/"
        },
        "id": "qM80uO3fKGAG",
        "outputId": "1fa33c55-2e38-45b6-88b0-191e817694f1"
      },
      "source": [
        "nba.pts.mean()"
      ],
      "execution_count": 22,
      "outputs": [
        {
          "output_type": "execute_result",
          "data": {
            "text/plain": [
              "102.72998242475101"
            ]
          },
          "metadata": {
            "tags": []
          },
          "execution_count": 22
        }
      ]
    },
    {
      "cell_type": "code",
      "metadata": {
        "colab": {
          "base_uri": "https://localhost:8080/"
        },
        "id": "AzEVn00YKcXC",
        "outputId": "cf4a8906-e1a2-4cf8-b35d-716ae195e105"
      },
      "source": [
        "nba.loc[nba.pts < 70].groupby(\"fran_id\", sort=False).pts.count()"
      ],
      "execution_count": 28,
      "outputs": [
        {
          "output_type": "execute_result",
          "data": {
            "text/plain": [
              "fran_id\n",
              "Huskies          35\n",
              "Knicks          137\n",
              "Stags            54\n",
              "Falcons          47\n",
              "Capitols         71\n",
              "Celtics         124\n",
              "Steamrollers     71\n",
              "Ironmen          45\n",
              "Bombers         108\n",
              "Warriors        134\n",
              "Rebels           25\n",
              "Baltimore        91\n",
              "Jets             18\n",
              "Kings            56\n",
              "Pistons         107\n",
              "Lakers           64\n",
              "Denver           14\n",
              "Hawks           131\n",
              "Waterloo         11\n",
              "Olympians        53\n",
              "Sixers           49\n",
              "Packers           7\n",
              "Redskins         12\n",
              "Clippers          8\n",
              "Nuggets          25\n",
              "Squires           1\n",
              "Pacers           16\n",
              "Stars             1\n",
              "Rockets          10\n",
              "Bulls            28\n",
              "Bucks            10\n",
              "Cavaliers        22\n",
              "Mavericks        11\n",
              "Suns              4\n",
              "Heat             36\n",
              "Nets             22\n",
              "Thunder           6\n",
              "Wizards          14\n",
              "Pelicans         27\n",
              "Grizzlies        11\n",
              "Trailblazers     17\n",
              "Magic            20\n",
              "Spurs            10\n",
              "Raptors          17\n",
              "Timberwolves      4\n",
              "Jazz             15\n",
              "Hornets          15\n",
              "Name: pts, dtype: int64"
            ]
          },
          "metadata": {
            "tags": []
          },
          "execution_count": 28
        }
      ]
    }
  ]
}