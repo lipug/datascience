{
  "nbformat": 4,
  "nbformat_minor": 0,
  "metadata": {
    "colab": {
      "name": "PY001_NFE_204_Pandas_pour_datascience.ipynb",
      "provenance": [],
      "collapsed_sections": [],
      "authorship_tag": "ABX9TyNQl54Ke8PjdJFju/T/ODJr",
      "include_colab_link": true
    },
    "kernelspec": {
      "name": "python3",
      "display_name": "Python 3"
    }
  },
  "cells": [
    {
      "cell_type": "markdown",
      "metadata": {
        "id": "view-in-github",
        "colab_type": "text"
      },
      "source": [
        "<a href=\"https://colab.research.google.com/github/lipug/datascience/blob/main/PY001_NFE_204_Pandas_pour_datascience.ipynb\" target=\"_parent\"><img src=\"https://colab.research.google.com/assets/colab-badge.svg\" alt=\"Open In Colab\"/></a>"
      ]
    },
    {
      "cell_type": "markdown",
      "metadata": {
        "id": "C6pgE_9I2b00"
      },
      "source": [
        "# Pourquois Python et pandas?\r\n",
        "\r\n",
        "Une des taches du datascientiste commence par la récuparation des données pertinante, puis éventuellement les stocké. \r\n",
        "\r\n",
        "\r\n",
        "Dans ce parcours d'apprentissage complémentaire, vous vous familiariserez avec Pandas et découvrirez les tenants et les aboutissants de la façon dont vous pouvez l'utiliser pour récupérer et analyser des données avec Python et ensuite les archiver.\r\n",
        "\r\n",
        "Pandas change la donne pour la science des données et l'analyse, en particulier si vous êtes arrivé à Python parce que vous recherchiez quelque chose de plus puissant qu'Excel et VBA. Pandas utilise des structures de données rapides, flexibles et expressives conçues pour rendre le travail avec des données relationnelles ou étiquetées (NoSql) à la fois facile et intuitif.\r\n",
        "\r\n",
        "Nous utiliserons Pandas comme pivot depuis et vers les BD Nosql: mongodeb, cassandra et elasticserch\r\n",
        "\r\n"
      ]
    },
    {
      "cell_type": "markdown",
      "metadata": {
        "id": "f6ERb6j35zy-"
      },
      "source": [
        "SEANCE PY001: Vous disposez d'un vaste ensemble de données riche en informations intéressantes, mais vous ne savez pas par où commencer à l'explorer? Vous souhaitez générer des statistiques à partir de celui-ci, mais elles ne sont pas si faciles à extraire? Ce sont précisément les cas d'utilisation où Pandas et Python peuvent vous aider! Avec ces outils, vous serez en mesure de découper un vaste ensemble de données en parties gérables et de tirer un aperçu de ces informations."
      ]
    },
    {
      "cell_type": "markdown",
      "metadata": {
        "id": "0mXUNOMy4TUA"
      },
      "source": [
        "Dans cette premières séance \"Pandas\", vous apprendrez à:\r\n",
        "\r\n",
        "* Calculez des métriques sur vos données\r\n",
        "* Effectuer des requêtes et des agrégations de base\r\n",
        "* Découvrez et gérez les données incorrectes, les incohérences et les valeurs manquantes\r\n",
        "* Visualisez vos données avec des tracés\r\n",
        "* Vous découvrirez également les différences entre les principales structures de données utilisées par Pandas et Python. \r\n",
        "\r\n",
        "Pour suivre, vous pouvez obtenir tous les exemples de code de ce didacticiel sur le lien ci-dessous:\r\n",
        "\r\n",
        "[Dans github](https://github.com/lipug/datascience)"
      ]
    },
    {
      "cell_type": "markdown",
      "metadata": {
        "id": "92I8ePts94dF"
      },
      "source": [
        "# Un utilitaire pour lire des url (c'est du Python!)"
      ]
    },
    {
      "cell_type": "code",
      "metadata": {
        "colab": {
          "base_uri": "https://localhost:8080/"
        },
        "id": "qLj9vnws2VCG",
        "outputId": "6ce69973-e846-434a-a69e-12366e98fbaf"
      },
      "source": [
        "import requests\r\n",
        "\r\n",
        "download_url = \"https://github.com/lipug/datascience/raw/main/packages/lire.py\"\r\n",
        "target_path = \"lire.py\"\r\n",
        "\r\n",
        "response = requests.get(download_url)\r\n",
        "response.raise_for_status()    # Verifier tout est ok\r\n",
        "with open(target_path, \"wb\") as f:\r\n",
        "    f.write(response.content)\r\n",
        "print(\"C'est fait....\")"
      ],
      "execution_count": 1,
      "outputs": [
        {
          "output_type": "stream",
          "text": [
            "C'est fait....\n"
          ],
          "name": "stdout"
        }
      ]
    },
    {
      "cell_type": "markdown",
      "metadata": {
        "id": "0P-n8F6L-imf"
      },
      "source": [
        ".... explications ..."
      ]
    },
    {
      "cell_type": "markdown",
      "metadata": {
        "id": "HUXK1-XOK4ee"
      },
      "source": [
        "# Montrons un avant goût des capacités des Pandas DataFrame."
      ]
    },
    {
      "cell_type": "code",
      "metadata": {
        "id": "eGz7PUlF_ufe"
      },
      "source": [
        "l = ['https://github.com/fivethirtyeight/data/raw/master/nba-elo/nbaallelo.csv']"
      ],
      "execution_count": 7,
      "outputs": []
    },
    {
      "cell_type": "code",
      "metadata": {
        "id": "KwXh-OKT_yud"
      },
      "source": [
        "import lire"
      ],
      "execution_count": 8,
      "outputs": []
    },
    {
      "cell_type": "code",
      "metadata": {
        "colab": {
          "base_uri": "https://localhost:8080/"
        },
        "id": "MjrsTDAc_2ht",
        "outputId": "c362d4f3-bc89-425d-c5a6-785f1957056c"
      },
      "source": [
        "lire.read_from_url(l[0])"
      ],
      "execution_count": 9,
      "outputs": [
        {
          "output_type": "execute_result",
          "data": {
            "text/plain": [
              "('https://github.com/fivethirtyeight/data/raw/master/nba-elo/nbaallelo.csv',\n",
              " 'nbaallelo.csv')"
            ]
          },
          "metadata": {
            "tags": []
          },
          "execution_count": 9
        }
      ]
    },
    {
      "cell_type": "code",
      "metadata": {
        "colab": {
          "base_uri": "https://localhost:8080/"
        },
        "id": "v4V-GzvMAREm",
        "outputId": "51191acb-7428-4806-85da-042fd11b7c6c"
      },
      "source": [
        "import pandas as pd\r\n",
        "nba = pd.read_csv(\"nbaallelo.csv\")\r\n",
        "type(nba)"
      ],
      "execution_count": 10,
      "outputs": [
        {
          "output_type": "execute_result",
          "data": {
            "text/plain": [
              "pandas.core.frame.DataFrame"
            ]
          },
          "metadata": {
            "tags": []
          },
          "execution_count": 10
        }
      ]
    },
    {
      "cell_type": "code",
      "metadata": {
        "colab": {
          "base_uri": "https://localhost:8080/"
        },
        "id": "3XGXMxocLJCl",
        "outputId": "cbab4f63-f829-4a74-9452-df54aed50427"
      },
      "source": [
        "# ou directement\r\n",
        "nba_f_url = pd.read_csv(l[0])\r\n",
        "type(nba_f_url)"
      ],
      "execution_count": 29,
      "outputs": [
        {
          "output_type": "execute_result",
          "data": {
            "text/plain": [
              "pandas.core.frame.DataFrame"
            ]
          },
          "metadata": {
            "tags": []
          },
          "execution_count": 29
        }
      ]
    },
    {
      "cell_type": "code",
      "metadata": {
        "id": "32ahvaaoLVxP"
      },
      "source": [
        "# Avons nous lu la m^me chose?\r\n",
        "nba == nba_f_url"
      ],
      "execution_count": null,
      "outputs": []
    },
    {
      "cell_type": "markdown",
      "metadata": {
        "id": "NIVFLilQ-lTa"
      },
      "source": [
        "On a suivi la convention d'importation de Pandas en Python avec l'alias pd. Ensuite, vous utilisez `.read_csv()` pour lire l'ensemble de données et le stocker en tant qu'objet DataFrame dans la variable nba."
      ]
    },
    {
      "cell_type": "markdown",
      "metadata": {
        "id": "wv7nBPIBBRQV"
      },
      "source": [
        "Vous pouvez voir combien de données nba contient:"
      ]
    },
    {
      "cell_type": "code",
      "metadata": {
        "colab": {
          "base_uri": "https://localhost:8080/"
        },
        "id": "OFufMNJTBXRj",
        "outputId": "04accf5f-aa4c-4f8f-d546-b1c8c3a22a29"
      },
      "source": [
        "print(len(nba),nba.shape)"
      ],
      "execution_count": 12,
      "outputs": [
        {
          "output_type": "stream",
          "text": [
            "126314 (126314, 23)\n"
          ],
          "name": "stdout"
        }
      ]
    },
    {
      "cell_type": "markdown",
      "metadata": {
        "id": "5ihhq2x-BqfW"
      },
      "source": [
        "Vous utilisez la fonction intégrée Python `len()` pour déterminer le nombre de lignes. Vous utilisez également l'attribut `.shape du DataFrame` pour voir sa dimensionnalité. Le résultat est un tuple contenant le nombre de lignes et de colonnes.\r\n",
        "\r\n",
        "Vous savez maintenant qu'il y a 126 314 lignes et 23 colonnes dans votre ensemble de données. Mais comment être sûr que l'ensemble de données contient vraiment des statistiques de basket-ball? Vous pouvez jeter un œil aux cinq premières lignes avec `.head()`:"
      ]
    },
    {
      "cell_type": "code",
      "metadata": {
        "colab": {
          "base_uri": "https://localhost:8080/",
          "height": 222
        },
        "id": "ZNB4h5rwB2T7",
        "outputId": "95e1ae1e-5ddf-4fb9-b04c-89abc354f51b"
      },
      "source": [
        "nba.head()"
      ],
      "execution_count": 13,
      "outputs": [
        {
          "output_type": "execute_result",
          "data": {
            "text/html": [
              "<div>\n",
              "<style scoped>\n",
              "    .dataframe tbody tr th:only-of-type {\n",
              "        vertical-align: middle;\n",
              "    }\n",
              "\n",
              "    .dataframe tbody tr th {\n",
              "        vertical-align: top;\n",
              "    }\n",
              "\n",
              "    .dataframe thead th {\n",
              "        text-align: right;\n",
              "    }\n",
              "</style>\n",
              "<table border=\"1\" class=\"dataframe\">\n",
              "  <thead>\n",
              "    <tr style=\"text-align: right;\">\n",
              "      <th></th>\n",
              "      <th>gameorder</th>\n",
              "      <th>game_id</th>\n",
              "      <th>lg_id</th>\n",
              "      <th>_iscopy</th>\n",
              "      <th>year_id</th>\n",
              "      <th>date_game</th>\n",
              "      <th>seasongame</th>\n",
              "      <th>is_playoffs</th>\n",
              "      <th>team_id</th>\n",
              "      <th>fran_id</th>\n",
              "      <th>pts</th>\n",
              "      <th>elo_i</th>\n",
              "      <th>elo_n</th>\n",
              "      <th>win_equiv</th>\n",
              "      <th>opp_id</th>\n",
              "      <th>opp_fran</th>\n",
              "      <th>opp_pts</th>\n",
              "      <th>opp_elo_i</th>\n",
              "      <th>opp_elo_n</th>\n",
              "      <th>game_location</th>\n",
              "      <th>game_result</th>\n",
              "      <th>forecast</th>\n",
              "      <th>notes</th>\n",
              "    </tr>\n",
              "  </thead>\n",
              "  <tbody>\n",
              "    <tr>\n",
              "      <th>0</th>\n",
              "      <td>1</td>\n",
              "      <td>194611010TRH</td>\n",
              "      <td>NBA</td>\n",
              "      <td>0</td>\n",
              "      <td>1947</td>\n",
              "      <td>11/1/1946</td>\n",
              "      <td>1</td>\n",
              "      <td>0</td>\n",
              "      <td>TRH</td>\n",
              "      <td>Huskies</td>\n",
              "      <td>66</td>\n",
              "      <td>1300.0000</td>\n",
              "      <td>1293.2767</td>\n",
              "      <td>40.294830</td>\n",
              "      <td>NYK</td>\n",
              "      <td>Knicks</td>\n",
              "      <td>68</td>\n",
              "      <td>1300.0000</td>\n",
              "      <td>1306.7233</td>\n",
              "      <td>H</td>\n",
              "      <td>L</td>\n",
              "      <td>0.640065</td>\n",
              "      <td>NaN</td>\n",
              "    </tr>\n",
              "    <tr>\n",
              "      <th>1</th>\n",
              "      <td>1</td>\n",
              "      <td>194611010TRH</td>\n",
              "      <td>NBA</td>\n",
              "      <td>1</td>\n",
              "      <td>1947</td>\n",
              "      <td>11/1/1946</td>\n",
              "      <td>1</td>\n",
              "      <td>0</td>\n",
              "      <td>NYK</td>\n",
              "      <td>Knicks</td>\n",
              "      <td>68</td>\n",
              "      <td>1300.0000</td>\n",
              "      <td>1306.7233</td>\n",
              "      <td>41.705170</td>\n",
              "      <td>TRH</td>\n",
              "      <td>Huskies</td>\n",
              "      <td>66</td>\n",
              "      <td>1300.0000</td>\n",
              "      <td>1293.2767</td>\n",
              "      <td>A</td>\n",
              "      <td>W</td>\n",
              "      <td>0.359935</td>\n",
              "      <td>NaN</td>\n",
              "    </tr>\n",
              "    <tr>\n",
              "      <th>2</th>\n",
              "      <td>2</td>\n",
              "      <td>194611020CHS</td>\n",
              "      <td>NBA</td>\n",
              "      <td>0</td>\n",
              "      <td>1947</td>\n",
              "      <td>11/2/1946</td>\n",
              "      <td>1</td>\n",
              "      <td>0</td>\n",
              "      <td>CHS</td>\n",
              "      <td>Stags</td>\n",
              "      <td>63</td>\n",
              "      <td>1300.0000</td>\n",
              "      <td>1309.6521</td>\n",
              "      <td>42.012257</td>\n",
              "      <td>NYK</td>\n",
              "      <td>Knicks</td>\n",
              "      <td>47</td>\n",
              "      <td>1306.7233</td>\n",
              "      <td>1297.0712</td>\n",
              "      <td>H</td>\n",
              "      <td>W</td>\n",
              "      <td>0.631101</td>\n",
              "      <td>NaN</td>\n",
              "    </tr>\n",
              "    <tr>\n",
              "      <th>3</th>\n",
              "      <td>2</td>\n",
              "      <td>194611020CHS</td>\n",
              "      <td>NBA</td>\n",
              "      <td>1</td>\n",
              "      <td>1947</td>\n",
              "      <td>11/2/1946</td>\n",
              "      <td>2</td>\n",
              "      <td>0</td>\n",
              "      <td>NYK</td>\n",
              "      <td>Knicks</td>\n",
              "      <td>47</td>\n",
              "      <td>1306.7233</td>\n",
              "      <td>1297.0712</td>\n",
              "      <td>40.692783</td>\n",
              "      <td>CHS</td>\n",
              "      <td>Stags</td>\n",
              "      <td>63</td>\n",
              "      <td>1300.0000</td>\n",
              "      <td>1309.6521</td>\n",
              "      <td>A</td>\n",
              "      <td>L</td>\n",
              "      <td>0.368899</td>\n",
              "      <td>NaN</td>\n",
              "    </tr>\n",
              "    <tr>\n",
              "      <th>4</th>\n",
              "      <td>3</td>\n",
              "      <td>194611020DTF</td>\n",
              "      <td>NBA</td>\n",
              "      <td>0</td>\n",
              "      <td>1947</td>\n",
              "      <td>11/2/1946</td>\n",
              "      <td>1</td>\n",
              "      <td>0</td>\n",
              "      <td>DTF</td>\n",
              "      <td>Falcons</td>\n",
              "      <td>33</td>\n",
              "      <td>1300.0000</td>\n",
              "      <td>1279.6189</td>\n",
              "      <td>38.864048</td>\n",
              "      <td>WSC</td>\n",
              "      <td>Capitols</td>\n",
              "      <td>50</td>\n",
              "      <td>1300.0000</td>\n",
              "      <td>1320.3811</td>\n",
              "      <td>H</td>\n",
              "      <td>L</td>\n",
              "      <td>0.640065</td>\n",
              "      <td>NaN</td>\n",
              "    </tr>\n",
              "  </tbody>\n",
              "</table>\n",
              "</div>"
            ],
            "text/plain": [
              "   gameorder       game_id lg_id  ...  game_result  forecast notes\n",
              "0          1  194611010TRH   NBA  ...            L  0.640065   NaN\n",
              "1          1  194611010TRH   NBA  ...            W  0.359935   NaN\n",
              "2          2  194611020CHS   NBA  ...            W  0.631101   NaN\n",
              "3          2  194611020CHS   NBA  ...            L  0.368899   NaN\n",
              "4          3  194611020DTF   NBA  ...            L  0.640065   NaN\n",
              "\n",
              "[5 rows x 23 columns]"
            ]
          },
          "metadata": {
            "tags": []
          },
          "execution_count": 13
        }
      ]
    },
    {
      "cell_type": "markdown",
      "metadata": {
        "id": "HogotCf4DHJT"
      },
      "source": [
        "Bien qu'il soit pratique de voir toutes les colonnes, vous n'aurez probablement pas besoin de six décimales! Changez-le en deux:"
      ]
    },
    {
      "cell_type": "code",
      "metadata": {
        "id": "hr36V-3XDGNF"
      },
      "source": [
        "pd.set_option(\"display.precision\", 2)"
      ],
      "execution_count": 15,
      "outputs": []
    },
    {
      "cell_type": "markdown",
      "metadata": {
        "id": "-4JatnhaDK2V"
      },
      "source": [
        "Pour vérifier que vous avez correctement modifié les options, vous pouvez exécuter à nouveau .head () ou afficher les cinq dernières lignes avec .tail () à la place:"
      ]
    },
    {
      "cell_type": "code",
      "metadata": {
        "colab": {
          "base_uri": "https://localhost:8080/",
          "height": 222
        },
        "id": "WlUUuBjUDPJX",
        "outputId": "a64292d5-eac2-4a71-f792-f0aaabf84ca0"
      },
      "source": [
        "nba.tail()"
      ],
      "execution_count": 16,
      "outputs": [
        {
          "output_type": "execute_result",
          "data": {
            "text/html": [
              "<div>\n",
              "<style scoped>\n",
              "    .dataframe tbody tr th:only-of-type {\n",
              "        vertical-align: middle;\n",
              "    }\n",
              "\n",
              "    .dataframe tbody tr th {\n",
              "        vertical-align: top;\n",
              "    }\n",
              "\n",
              "    .dataframe thead th {\n",
              "        text-align: right;\n",
              "    }\n",
              "</style>\n",
              "<table border=\"1\" class=\"dataframe\">\n",
              "  <thead>\n",
              "    <tr style=\"text-align: right;\">\n",
              "      <th></th>\n",
              "      <th>gameorder</th>\n",
              "      <th>game_id</th>\n",
              "      <th>lg_id</th>\n",
              "      <th>_iscopy</th>\n",
              "      <th>year_id</th>\n",
              "      <th>date_game</th>\n",
              "      <th>seasongame</th>\n",
              "      <th>is_playoffs</th>\n",
              "      <th>team_id</th>\n",
              "      <th>fran_id</th>\n",
              "      <th>pts</th>\n",
              "      <th>elo_i</th>\n",
              "      <th>elo_n</th>\n",
              "      <th>win_equiv</th>\n",
              "      <th>opp_id</th>\n",
              "      <th>opp_fran</th>\n",
              "      <th>opp_pts</th>\n",
              "      <th>opp_elo_i</th>\n",
              "      <th>opp_elo_n</th>\n",
              "      <th>game_location</th>\n",
              "      <th>game_result</th>\n",
              "      <th>forecast</th>\n",
              "      <th>notes</th>\n",
              "    </tr>\n",
              "  </thead>\n",
              "  <tbody>\n",
              "    <tr>\n",
              "      <th>126309</th>\n",
              "      <td>63155</td>\n",
              "      <td>201506110CLE</td>\n",
              "      <td>NBA</td>\n",
              "      <td>0</td>\n",
              "      <td>2015</td>\n",
              "      <td>6/11/2015</td>\n",
              "      <td>100</td>\n",
              "      <td>1</td>\n",
              "      <td>CLE</td>\n",
              "      <td>Cavaliers</td>\n",
              "      <td>82</td>\n",
              "      <td>1723.41</td>\n",
              "      <td>1704.39</td>\n",
              "      <td>60.31</td>\n",
              "      <td>GSW</td>\n",
              "      <td>Warriors</td>\n",
              "      <td>103</td>\n",
              "      <td>1790.96</td>\n",
              "      <td>1809.98</td>\n",
              "      <td>H</td>\n",
              "      <td>L</td>\n",
              "      <td>0.55</td>\n",
              "      <td>NaN</td>\n",
              "    </tr>\n",
              "    <tr>\n",
              "      <th>126310</th>\n",
              "      <td>63156</td>\n",
              "      <td>201506140GSW</td>\n",
              "      <td>NBA</td>\n",
              "      <td>0</td>\n",
              "      <td>2015</td>\n",
              "      <td>6/14/2015</td>\n",
              "      <td>102</td>\n",
              "      <td>1</td>\n",
              "      <td>GSW</td>\n",
              "      <td>Warriors</td>\n",
              "      <td>104</td>\n",
              "      <td>1809.98</td>\n",
              "      <td>1813.63</td>\n",
              "      <td>68.01</td>\n",
              "      <td>CLE</td>\n",
              "      <td>Cavaliers</td>\n",
              "      <td>91</td>\n",
              "      <td>1704.39</td>\n",
              "      <td>1700.74</td>\n",
              "      <td>H</td>\n",
              "      <td>W</td>\n",
              "      <td>0.77</td>\n",
              "      <td>NaN</td>\n",
              "    </tr>\n",
              "    <tr>\n",
              "      <th>126311</th>\n",
              "      <td>63156</td>\n",
              "      <td>201506140GSW</td>\n",
              "      <td>NBA</td>\n",
              "      <td>1</td>\n",
              "      <td>2015</td>\n",
              "      <td>6/14/2015</td>\n",
              "      <td>101</td>\n",
              "      <td>1</td>\n",
              "      <td>CLE</td>\n",
              "      <td>Cavaliers</td>\n",
              "      <td>91</td>\n",
              "      <td>1704.39</td>\n",
              "      <td>1700.74</td>\n",
              "      <td>60.01</td>\n",
              "      <td>GSW</td>\n",
              "      <td>Warriors</td>\n",
              "      <td>104</td>\n",
              "      <td>1809.98</td>\n",
              "      <td>1813.63</td>\n",
              "      <td>A</td>\n",
              "      <td>L</td>\n",
              "      <td>0.23</td>\n",
              "      <td>NaN</td>\n",
              "    </tr>\n",
              "    <tr>\n",
              "      <th>126312</th>\n",
              "      <td>63157</td>\n",
              "      <td>201506170CLE</td>\n",
              "      <td>NBA</td>\n",
              "      <td>0</td>\n",
              "      <td>2015</td>\n",
              "      <td>6/16/2015</td>\n",
              "      <td>102</td>\n",
              "      <td>1</td>\n",
              "      <td>CLE</td>\n",
              "      <td>Cavaliers</td>\n",
              "      <td>97</td>\n",
              "      <td>1700.74</td>\n",
              "      <td>1692.09</td>\n",
              "      <td>59.29</td>\n",
              "      <td>GSW</td>\n",
              "      <td>Warriors</td>\n",
              "      <td>105</td>\n",
              "      <td>1813.63</td>\n",
              "      <td>1822.29</td>\n",
              "      <td>H</td>\n",
              "      <td>L</td>\n",
              "      <td>0.48</td>\n",
              "      <td>NaN</td>\n",
              "    </tr>\n",
              "    <tr>\n",
              "      <th>126313</th>\n",
              "      <td>63157</td>\n",
              "      <td>201506170CLE</td>\n",
              "      <td>NBA</td>\n",
              "      <td>1</td>\n",
              "      <td>2015</td>\n",
              "      <td>6/16/2015</td>\n",
              "      <td>103</td>\n",
              "      <td>1</td>\n",
              "      <td>GSW</td>\n",
              "      <td>Warriors</td>\n",
              "      <td>105</td>\n",
              "      <td>1813.63</td>\n",
              "      <td>1822.29</td>\n",
              "      <td>68.52</td>\n",
              "      <td>CLE</td>\n",
              "      <td>Cavaliers</td>\n",
              "      <td>97</td>\n",
              "      <td>1700.74</td>\n",
              "      <td>1692.09</td>\n",
              "      <td>A</td>\n",
              "      <td>W</td>\n",
              "      <td>0.52</td>\n",
              "      <td>NaN</td>\n",
              "    </tr>\n",
              "  </tbody>\n",
              "</table>\n",
              "</div>"
            ],
            "text/plain": [
              "        gameorder       game_id lg_id  ...  game_result  forecast notes\n",
              "126309      63155  201506110CLE   NBA  ...            L      0.55   NaN\n",
              "126310      63156  201506140GSW   NBA  ...            W      0.77   NaN\n",
              "126311      63156  201506140GSW   NBA  ...            L      0.23   NaN\n",
              "126312      63157  201506170CLE   NBA  ...            L      0.48   NaN\n",
              "126313      63157  201506170CLE   NBA  ...            W      0.52   NaN\n",
              "\n",
              "[5 rows x 23 columns]"
            ]
          },
          "metadata": {
            "tags": []
          },
          "execution_count": 16
        }
      ]
    },
    {
      "cell_type": "markdown",
      "metadata": {
        "id": "qghM5AMPDnMj"
      },
      "source": [
        "Vous pouvez découvrir d'autres possibilités de .head () et .tail () avec un petit exercice. Pouvez-vous imprimer les trois dernières lignes de votre DataFrame? Développez le bloc de code ci-dessous pour voir la solution:"
      ]
    },
    {
      "cell_type": "code",
      "metadata": {
        "id": "BxQsQsxsDmiQ"
      },
      "source": [
        "# completer\r\n",
        "nba."
      ],
      "execution_count": null,
      "outputs": []
    },
    {
      "cell_type": "markdown",
      "metadata": {
        "id": "DI_MfPnLD5h9"
      },
      "source": [
        "Semblable à la bibliothèque standard Python, les fonctions de Pandas sont également fournies avec plusieurs paramètres facultatifs. Chaque fois que vous tombez sur un exemple qui semble pertinent mais qui est légèrement différent de votre cas d'utilisation, consultez la [documentation officielle](https://pandas.pydata.org/pandas-docs/stable/). Il y a de bonnes chances que vous trouviez une solution en modifiant certains paramètres facultatifs!"
      ]
    },
    {
      "cell_type": "markdown",
      "metadata": {
        "id": "PqGdBJ7GEGnr"
      },
      "source": [
        "# Apprendre à connaître vos données\r\n",
        "\r\n",
        "Vous avez importé un fichier CSV avec la bibliothèque Pandas Python et jeté un premier coup d'œil au contenu de votre ensemble de données. Jusqu'à présent, vous n'avez vu que la taille de votre ensemble de données et ses premières et dernières lignes. Vous devez apprendre à examiner vos données de manière plus systématique."
      ]
    },
    {
      "cell_type": "markdown",
      "metadata": {
        "id": "G7_kE_qME68i"
      },
      "source": [
        "## Affichage des types de données\r\n",
        "La première étape pour connaître vos données consiste à découvrir les différents types de données qu'elles contiennent. Bien que vous puissiez mettre n'importe quoi dans une liste, les colonnes d'un DataFrame contiennent des valeurs d'un type de données spécifique. Lorsque vous comparez les structures de données Pandas et Python, vous verrez que ce comportement rend les Pandas beaucoup plus rapides!\r\n",
        "\r\n",
        "Vous pouvez afficher toutes les colonnes et leurs types de données avec .info ():"
      ]
    },
    {
      "cell_type": "code",
      "metadata": {
        "colab": {
          "base_uri": "https://localhost:8080/"
        },
        "id": "1AzZzk9lFGIL",
        "outputId": "770fcd44-4011-4a55-8b9c-a02b7d04a8c3"
      },
      "source": [
        "nba.info()"
      ],
      "execution_count": 17,
      "outputs": [
        {
          "output_type": "stream",
          "text": [
            "<class 'pandas.core.frame.DataFrame'>\n",
            "RangeIndex: 126314 entries, 0 to 126313\n",
            "Data columns (total 23 columns):\n",
            " #   Column         Non-Null Count   Dtype  \n",
            "---  ------         --------------   -----  \n",
            " 0   gameorder      126314 non-null  int64  \n",
            " 1   game_id        126314 non-null  object \n",
            " 2   lg_id          126314 non-null  object \n",
            " 3   _iscopy        126314 non-null  int64  \n",
            " 4   year_id        126314 non-null  int64  \n",
            " 5   date_game      126314 non-null  object \n",
            " 6   seasongame     126314 non-null  int64  \n",
            " 7   is_playoffs    126314 non-null  int64  \n",
            " 8   team_id        126314 non-null  object \n",
            " 9   fran_id        126314 non-null  object \n",
            " 10  pts            126314 non-null  int64  \n",
            " 11  elo_i          126314 non-null  float64\n",
            " 12  elo_n          126314 non-null  float64\n",
            " 13  win_equiv      126314 non-null  float64\n",
            " 14  opp_id         126314 non-null  object \n",
            " 15  opp_fran       126314 non-null  object \n",
            " 16  opp_pts        126314 non-null  int64  \n",
            " 17  opp_elo_i      126314 non-null  float64\n",
            " 18  opp_elo_n      126314 non-null  float64\n",
            " 19  game_location  126314 non-null  object \n",
            " 20  game_result    126314 non-null  object \n",
            " 21  forecast       126314 non-null  float64\n",
            " 22  notes          5424 non-null    object \n",
            "dtypes: float64(6), int64(7), object(10)\n",
            "memory usage: 22.2+ MB\n"
          ],
          "name": "stdout"
        }
      ]
    },
    {
      "cell_type": "markdown",
      "metadata": {
        "id": "bFY_SbGbFzHU"
      },
      "source": [
        "Pour plus d'informations, consultez [le guide de démarrage officiel](https://pandas.pydata.org/pandas-docs/stable/getting_started/)."
      ]
    },
    {
      "cell_type": "markdown",
      "metadata": {
        "id": "nXOFoxg4Go2v"
      },
      "source": [
        "## Affichage des statistiques de base\r\n",
        "Maintenant que vous avez vu quels types de données se trouvent dans votre ensemble de données, il est temps d'avoir un aperçu des valeurs que contient chaque colonne. Vous pouvez le faire avec `.describe()`:"
      ]
    },
    {
      "cell_type": "code",
      "metadata": {
        "colab": {
          "base_uri": "https://localhost:8080/",
          "height": 294
        },
        "id": "XOYvfrUaGsfd",
        "outputId": "3a6e7056-487e-4fd6-938a-59020235b21f"
      },
      "source": [
        "nba.describe()"
      ],
      "execution_count": 18,
      "outputs": [
        {
          "output_type": "execute_result",
          "data": {
            "text/html": [
              "<div>\n",
              "<style scoped>\n",
              "    .dataframe tbody tr th:only-of-type {\n",
              "        vertical-align: middle;\n",
              "    }\n",
              "\n",
              "    .dataframe tbody tr th {\n",
              "        vertical-align: top;\n",
              "    }\n",
              "\n",
              "    .dataframe thead th {\n",
              "        text-align: right;\n",
              "    }\n",
              "</style>\n",
              "<table border=\"1\" class=\"dataframe\">\n",
              "  <thead>\n",
              "    <tr style=\"text-align: right;\">\n",
              "      <th></th>\n",
              "      <th>gameorder</th>\n",
              "      <th>_iscopy</th>\n",
              "      <th>year_id</th>\n",
              "      <th>seasongame</th>\n",
              "      <th>is_playoffs</th>\n",
              "      <th>pts</th>\n",
              "      <th>elo_i</th>\n",
              "      <th>elo_n</th>\n",
              "      <th>win_equiv</th>\n",
              "      <th>opp_pts</th>\n",
              "      <th>opp_elo_i</th>\n",
              "      <th>opp_elo_n</th>\n",
              "      <th>forecast</th>\n",
              "    </tr>\n",
              "  </thead>\n",
              "  <tbody>\n",
              "    <tr>\n",
              "      <th>count</th>\n",
              "      <td>126314.00</td>\n",
              "      <td>126314.0</td>\n",
              "      <td>126314.00</td>\n",
              "      <td>126314.00</td>\n",
              "      <td>126314.00</td>\n",
              "      <td>126314.00</td>\n",
              "      <td>126314.00</td>\n",
              "      <td>126314.00</td>\n",
              "      <td>126314.00</td>\n",
              "      <td>126314.00</td>\n",
              "      <td>126314.00</td>\n",
              "      <td>126314.00</td>\n",
              "      <td>126314.00</td>\n",
              "    </tr>\n",
              "    <tr>\n",
              "      <th>mean</th>\n",
              "      <td>31579.00</td>\n",
              "      <td>0.5</td>\n",
              "      <td>1988.20</td>\n",
              "      <td>43.53</td>\n",
              "      <td>0.06</td>\n",
              "      <td>102.73</td>\n",
              "      <td>1495.24</td>\n",
              "      <td>1495.24</td>\n",
              "      <td>41.71</td>\n",
              "      <td>102.73</td>\n",
              "      <td>1495.24</td>\n",
              "      <td>1495.24</td>\n",
              "      <td>0.50</td>\n",
              "    </tr>\n",
              "    <tr>\n",
              "      <th>std</th>\n",
              "      <td>18231.93</td>\n",
              "      <td>0.5</td>\n",
              "      <td>17.58</td>\n",
              "      <td>25.38</td>\n",
              "      <td>0.24</td>\n",
              "      <td>14.81</td>\n",
              "      <td>112.14</td>\n",
              "      <td>112.46</td>\n",
              "      <td>10.63</td>\n",
              "      <td>14.81</td>\n",
              "      <td>112.14</td>\n",
              "      <td>112.46</td>\n",
              "      <td>0.22</td>\n",
              "    </tr>\n",
              "    <tr>\n",
              "      <th>min</th>\n",
              "      <td>1.00</td>\n",
              "      <td>0.0</td>\n",
              "      <td>1947.00</td>\n",
              "      <td>1.00</td>\n",
              "      <td>0.00</td>\n",
              "      <td>0.00</td>\n",
              "      <td>1091.64</td>\n",
              "      <td>1085.77</td>\n",
              "      <td>10.15</td>\n",
              "      <td>0.00</td>\n",
              "      <td>1091.64</td>\n",
              "      <td>1085.77</td>\n",
              "      <td>0.02</td>\n",
              "    </tr>\n",
              "    <tr>\n",
              "      <th>25%</th>\n",
              "      <td>15790.00</td>\n",
              "      <td>0.0</td>\n",
              "      <td>1975.00</td>\n",
              "      <td>22.00</td>\n",
              "      <td>0.00</td>\n",
              "      <td>93.00</td>\n",
              "      <td>1417.24</td>\n",
              "      <td>1416.99</td>\n",
              "      <td>34.10</td>\n",
              "      <td>93.00</td>\n",
              "      <td>1417.24</td>\n",
              "      <td>1416.99</td>\n",
              "      <td>0.33</td>\n",
              "    </tr>\n",
              "    <tr>\n",
              "      <th>50%</th>\n",
              "      <td>31579.00</td>\n",
              "      <td>0.5</td>\n",
              "      <td>1990.00</td>\n",
              "      <td>43.00</td>\n",
              "      <td>0.00</td>\n",
              "      <td>103.00</td>\n",
              "      <td>1500.95</td>\n",
              "      <td>1500.95</td>\n",
              "      <td>42.11</td>\n",
              "      <td>103.00</td>\n",
              "      <td>1500.95</td>\n",
              "      <td>1500.95</td>\n",
              "      <td>0.50</td>\n",
              "    </tr>\n",
              "    <tr>\n",
              "      <th>75%</th>\n",
              "      <td>47368.00</td>\n",
              "      <td>1.0</td>\n",
              "      <td>2003.00</td>\n",
              "      <td>65.00</td>\n",
              "      <td>0.00</td>\n",
              "      <td>112.00</td>\n",
              "      <td>1576.06</td>\n",
              "      <td>1576.29</td>\n",
              "      <td>49.64</td>\n",
              "      <td>112.00</td>\n",
              "      <td>1576.06</td>\n",
              "      <td>1576.29</td>\n",
              "      <td>0.67</td>\n",
              "    </tr>\n",
              "    <tr>\n",
              "      <th>max</th>\n",
              "      <td>63157.00</td>\n",
              "      <td>1.0</td>\n",
              "      <td>2015.00</td>\n",
              "      <td>108.00</td>\n",
              "      <td>1.00</td>\n",
              "      <td>186.00</td>\n",
              "      <td>1853.10</td>\n",
              "      <td>1853.10</td>\n",
              "      <td>71.11</td>\n",
              "      <td>186.00</td>\n",
              "      <td>1853.10</td>\n",
              "      <td>1853.10</td>\n",
              "      <td>0.98</td>\n",
              "    </tr>\n",
              "  </tbody>\n",
              "</table>\n",
              "</div>"
            ],
            "text/plain": [
              "       gameorder   _iscopy    year_id  ...  opp_elo_i  opp_elo_n   forecast\n",
              "count  126314.00  126314.0  126314.00  ...  126314.00  126314.00  126314.00\n",
              "mean    31579.00       0.5    1988.20  ...    1495.24    1495.24       0.50\n",
              "std     18231.93       0.5      17.58  ...     112.14     112.46       0.22\n",
              "min         1.00       0.0    1947.00  ...    1091.64    1085.77       0.02\n",
              "25%     15790.00       0.0    1975.00  ...    1417.24    1416.99       0.33\n",
              "50%     31579.00       0.5    1990.00  ...    1500.95    1500.95       0.50\n",
              "75%     47368.00       1.0    2003.00  ...    1576.06    1576.29       0.67\n",
              "max     63157.00       1.0    2015.00  ...    1853.10    1853.10       0.98\n",
              "\n",
              "[8 rows x 13 columns]"
            ]
          },
          "metadata": {
            "tags": []
          },
          "execution_count": 18
        }
      ]
    },
    {
      "cell_type": "markdown",
      "metadata": {
        "id": "4VZ7MaaRHBbc"
      },
      "source": [
        ".describe () analyse uniquement les colonnes numériques par défaut, mais vous pouvez fournir d'autres types de données si vous utilisez le paramètre include:\r\n",
        "\r\n"
      ]
    },
    {
      "cell_type": "code",
      "metadata": {
        "colab": {
          "base_uri": "https://localhost:8080/",
          "height": 171
        },
        "id": "UDHA_OusHG10",
        "outputId": "57944752-8895-4652-9cca-d7d1701df230"
      },
      "source": [
        "import numpy as np\r\n",
        "nba.describe(include=np.object)"
      ],
      "execution_count": 19,
      "outputs": [
        {
          "output_type": "execute_result",
          "data": {
            "text/html": [
              "<div>\n",
              "<style scoped>\n",
              "    .dataframe tbody tr th:only-of-type {\n",
              "        vertical-align: middle;\n",
              "    }\n",
              "\n",
              "    .dataframe tbody tr th {\n",
              "        vertical-align: top;\n",
              "    }\n",
              "\n",
              "    .dataframe thead th {\n",
              "        text-align: right;\n",
              "    }\n",
              "</style>\n",
              "<table border=\"1\" class=\"dataframe\">\n",
              "  <thead>\n",
              "    <tr style=\"text-align: right;\">\n",
              "      <th></th>\n",
              "      <th>game_id</th>\n",
              "      <th>lg_id</th>\n",
              "      <th>date_game</th>\n",
              "      <th>team_id</th>\n",
              "      <th>fran_id</th>\n",
              "      <th>opp_id</th>\n",
              "      <th>opp_fran</th>\n",
              "      <th>game_location</th>\n",
              "      <th>game_result</th>\n",
              "      <th>notes</th>\n",
              "    </tr>\n",
              "  </thead>\n",
              "  <tbody>\n",
              "    <tr>\n",
              "      <th>count</th>\n",
              "      <td>126314</td>\n",
              "      <td>126314</td>\n",
              "      <td>126314</td>\n",
              "      <td>126314</td>\n",
              "      <td>126314</td>\n",
              "      <td>126314</td>\n",
              "      <td>126314</td>\n",
              "      <td>126314</td>\n",
              "      <td>126314</td>\n",
              "      <td>5424</td>\n",
              "    </tr>\n",
              "    <tr>\n",
              "      <th>unique</th>\n",
              "      <td>63157</td>\n",
              "      <td>2</td>\n",
              "      <td>12426</td>\n",
              "      <td>104</td>\n",
              "      <td>53</td>\n",
              "      <td>104</td>\n",
              "      <td>53</td>\n",
              "      <td>3</td>\n",
              "      <td>2</td>\n",
              "      <td>231</td>\n",
              "    </tr>\n",
              "    <tr>\n",
              "      <th>top</th>\n",
              "      <td>197311220VIR</td>\n",
              "      <td>NBA</td>\n",
              "      <td>4/13/2011</td>\n",
              "      <td>BOS</td>\n",
              "      <td>Lakers</td>\n",
              "      <td>BOS</td>\n",
              "      <td>Lakers</td>\n",
              "      <td>H</td>\n",
              "      <td>L</td>\n",
              "      <td>at New York NY</td>\n",
              "    </tr>\n",
              "    <tr>\n",
              "      <th>freq</th>\n",
              "      <td>2</td>\n",
              "      <td>118016</td>\n",
              "      <td>30</td>\n",
              "      <td>5997</td>\n",
              "      <td>6024</td>\n",
              "      <td>5997</td>\n",
              "      <td>6024</td>\n",
              "      <td>63138</td>\n",
              "      <td>63157</td>\n",
              "      <td>440</td>\n",
              "    </tr>\n",
              "  </tbody>\n",
              "</table>\n",
              "</div>"
            ],
            "text/plain": [
              "             game_id   lg_id  ... game_result           notes\n",
              "count         126314  126314  ...      126314            5424\n",
              "unique         63157       2  ...           2             231\n",
              "top     197311220VIR     NBA  ...           L  at New York NY\n",
              "freq               2  118016  ...       63157             440\n",
              "\n",
              "[4 rows x 10 columns]"
            ]
          },
          "metadata": {
            "tags": []
          },
          "execution_count": 19
        }
      ]
    },
    {
      "cell_type": "markdown",
      "metadata": {
        "id": "vQLJKUVWHiU2"
      },
      "source": [
        "Jetez un œil aux colonnes team_id et fran_id. Votre ensemble de données contient 104 ID d'équipe différents, mais seulement 53 ID de franchise différents. De plus, l'ID d'équipe le plus fréquent est BOS, mais l'ID de franchise le plus fréquent est Lakers. Comment est-ce possible? Vous devrez explorer un peu plus votre ensemble de données pour répondre à cette question."
      ]
    },
    {
      "cell_type": "markdown",
      "metadata": {
        "id": "SvqIOwK1IOUg"
      },
      "source": [
        "## Explorer votre ensemble de données\r\n",
        "L'analyse exploratoire des données peut vous aider à répondre à des questions sur votre ensemble de données. Par exemple, vous pouvez examiner la fréquence à laquelle des valeurs spécifiques apparaissent dans une colonne:"
      ]
    },
    {
      "cell_type": "code",
      "metadata": {
        "colab": {
          "base_uri": "https://localhost:8080/"
        },
        "id": "8_a8N1PoIXQU",
        "outputId": "a695b096-a330-420a-df35-58a77c435a64"
      },
      "source": [
        "nba[\"team_id\"].value_counts()"
      ],
      "execution_count": 20,
      "outputs": [
        {
          "output_type": "execute_result",
          "data": {
            "text/plain": [
              "BOS    5997\n",
              "NYK    5769\n",
              "LAL    5078\n",
              "DET    4985\n",
              "PHI    4533\n",
              "       ... \n",
              "DTF      60\n",
              "PIT      60\n",
              "INJ      60\n",
              "TRH      60\n",
              "SDS      11\n",
              "Name: team_id, Length: 104, dtype: int64"
            ]
          },
          "metadata": {
            "tags": []
          },
          "execution_count": 20
        }
      ]
    },
    {
      "cell_type": "code",
      "metadata": {
        "colab": {
          "base_uri": "https://localhost:8080/"
        },
        "id": "hXwda165Ie7o",
        "outputId": "5a170b07-fd3e-4fac-a933-9d2d16a33806"
      },
      "source": [
        "nba[\"fran_id\"].value_counts()"
      ],
      "execution_count": 21,
      "outputs": [
        {
          "output_type": "execute_result",
          "data": {
            "text/plain": [
              "Lakers          6024\n",
              "Celtics         5997\n",
              "Knicks          5769\n",
              "Warriors        5657\n",
              "Pistons         5650\n",
              "Sixers          5644\n",
              "Hawks           5572\n",
              "Kings           5475\n",
              "Wizards         4582\n",
              "Spurs           4309\n",
              "Bulls           4307\n",
              "Pacers          4227\n",
              "Thunder         4178\n",
              "Rockets         4154\n",
              "Nuggets         4120\n",
              "Nets            4106\n",
              "Suns            4080\n",
              "Bucks           4034\n",
              "Trailblazers    3870\n",
              "Cavaliers       3810\n",
              "Clippers        3733\n",
              "Jazz            3555\n",
              "Mavericks       3013\n",
              "Heat            2371\n",
              "Pelicans        2254\n",
              "Magic           2207\n",
              "Timberwolves    2131\n",
              "Grizzlies       1657\n",
              "Raptors         1634\n",
              "Hornets          894\n",
              "Colonels         846\n",
              "Squires          799\n",
              "Spirits          777\n",
              "Stars            756\n",
              "Sounds           697\n",
              "Baltimore        467\n",
              "Floridians       440\n",
              "Condors          430\n",
              "Capitols         291\n",
              "Olympians        282\n",
              "Sails            274\n",
              "Stags            260\n",
              "Bombers          249\n",
              "Steamrollers     168\n",
              "Packers           72\n",
              "Redskins          65\n",
              "Rebels            63\n",
              "Denver            62\n",
              "Waterloo          62\n",
              "Jets              60\n",
              "Ironmen           60\n",
              "Falcons           60\n",
              "Huskies           60\n",
              "Name: fran_id, dtype: int64"
            ]
          },
          "metadata": {
            "tags": []
          },
          "execution_count": 21
        }
      ]
    },
    {
      "cell_type": "markdown",
      "metadata": {
        "id": "nbxRito8I05m"
      },
      "source": [
        "Il semble qu'une équipe nommée \"Lakers\" ait joué 6024 matchs, mais seuls 5078 d'entre eux ont été joués par les Lakers de Los Angeles (LAL). Découvrez qui est l'autre équipe \"Lakers\":"
      ]
    },
    {
      "cell_type": "code",
      "metadata": {
        "colab": {
          "base_uri": "https://localhost:8080/"
        },
        "id": "16XzZEXGJDnX",
        "outputId": "8fa6bb07-0877-41eb-8543-ffba882e3bd6"
      },
      "source": [
        "nba.loc[nba[\"fran_id\"] == \"Lakers\", \"team_id\"].value_counts()"
      ],
      "execution_count": 22,
      "outputs": [
        {
          "output_type": "execute_result",
          "data": {
            "text/plain": [
              "LAL    5078\n",
              "MNL     946\n",
              "Name: team_id, dtype: int64"
            ]
          },
          "metadata": {
            "tags": []
          },
          "execution_count": 22
        }
      ]
    },
    {
      "cell_type": "markdown",
      "metadata": {
        "id": "H_f6UiDyJXcf"
      },
      "source": [
        "En effet, les Lakers de Minneapolis («MNL») ont disputé 946 matchs. Vous pouvez même savoir quand ils ont joué à ces jeux:"
      ]
    },
    {
      "cell_type": "code",
      "metadata": {
        "colab": {
          "base_uri": "https://localhost:8080/",
          "height": 35
        },
        "id": "8oGOYUQ4JYmd",
        "outputId": "7771e785-c022-48d6-e0eb-a79011f6f276"
      },
      "source": [
        "nba.loc[nba[\"team_id\"] == \"MNL\", \"date_game\"].min()"
      ],
      "execution_count": 23,
      "outputs": [
        {
          "output_type": "execute_result",
          "data": {
            "application/vnd.google.colaboratory.intrinsic+json": {
              "type": "string"
            },
            "text/plain": [
              "'1/1/1949'"
            ]
          },
          "metadata": {
            "tags": []
          },
          "execution_count": 23
        }
      ]
    },
    {
      "cell_type": "code",
      "metadata": {
        "colab": {
          "base_uri": "https://localhost:8080/",
          "height": 35
        },
        "id": "7r4rOALAJcA5",
        "outputId": "71eb44f3-14d9-4028-d5b8-df50e09d0cb9"
      },
      "source": [
        "nba.loc[nba[\"team_id\"] == \"MNL\", \"date_game\"].max()"
      ],
      "execution_count": 24,
      "outputs": [
        {
          "output_type": "execute_result",
          "data": {
            "application/vnd.google.colaboratory.intrinsic+json": {
              "type": "string"
            },
            "text/plain": [
              "'4/9/1959'"
            ]
          },
          "metadata": {
            "tags": []
          },
          "execution_count": 24
        }
      ]
    },
    {
      "cell_type": "code",
      "metadata": {
        "colab": {
          "base_uri": "https://localhost:8080/"
        },
        "id": "x0xX9azLJj5Q",
        "outputId": "d3390cdb-2bd3-419e-ac1f-54b82eb2a407"
      },
      "source": [
        "nba.loc[nba[\"team_id\"] == \"MNL\", \"date_game\"].agg((\"min\", \"max\"))"
      ],
      "execution_count": 25,
      "outputs": [
        {
          "output_type": "execute_result",
          "data": {
            "text/plain": [
              "min    1/1/1949\n",
              "max    4/9/1959\n",
              "Name: date_game, dtype: object"
            ]
          },
          "metadata": {
            "tags": []
          },
          "execution_count": 25
        }
      ]
    },
    {
      "cell_type": "code",
      "metadata": {
        "colab": {
          "base_uri": "https://localhost:8080/"
        },
        "id": "pY06wi-RKNkQ",
        "outputId": "1a66251e-ad51-48ba-e25b-7e32f96776f8"
      },
      "source": [
        "nba.loc[nba[\"team_id\"] == \"BOS\", \"date_game\"].agg((\"min\", \"max\"))"
      ],
      "execution_count": 26,
      "outputs": [
        {
          "output_type": "execute_result",
          "data": {
            "text/plain": [
              "min    1/1/1948\n",
              "max    6/9/2012\n",
              "Name: date_game, dtype: object"
            ]
          },
          "metadata": {
            "tags": []
          },
          "execution_count": 26
        }
      ]
    },
    {
      "cell_type": "markdown",
      "metadata": {
        "id": "Z3CpweMXKI0s"
      },
      "source": [
        "On dirait que les Lakers de Minneapolis ont joué entre les années 1949 et 1959. Cela explique pourquoi vous pourriez ne pas reconnaître cette équipe!\r\n",
        "\r\n",
        "Vous avez également découvert pourquoi l'équipe des Boston Celtics «BOS» a joué le plus de matchs de l'ensemble de données. Analysons également un peu leur histoire. Découvrez combien de points les Celtics de Boston ont marqués au cours de tous les matchs contenus dans cet ensemble de données. Développez le bloc de code ci-dessous pour la solution:"
      ]
    },
    {
      "cell_type": "code",
      "metadata": {
        "colab": {
          "base_uri": "https://localhost:8080/"
        },
        "id": "SMaF_je9Ka5E",
        "outputId": "d29ddc4d-e6ee-418e-bc59-4b5faeabbfdd"
      },
      "source": [
        "nba.loc[nba[\"team_id\"] == \"BOS\", \"pts\"].sum()"
      ],
      "execution_count": 27,
      "outputs": [
        {
          "output_type": "execute_result",
          "data": {
            "text/plain": [
              "626484"
            ]
          },
          "metadata": {
            "tags": []
          },
          "execution_count": 27
        }
      ]
    }
  ]
}